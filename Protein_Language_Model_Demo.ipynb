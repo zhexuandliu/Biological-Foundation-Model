{
  "nbformat": 4,
  "nbformat_minor": 0,
  "metadata": {
    "colab": {
      "provenance": [],
      "include_colab_link": true
    },
    "kernelspec": {
      "name": "python3",
      "display_name": "Python 3"
    },
    "language_info": {
      "name": "python"
    }
  },
  "cells": [
    {
      "cell_type": "markdown",
      "metadata": {
        "id": "view-in-github",
        "colab_type": "text"
      },
      "source": [
        "<a href=\"https://colab.research.google.com/github/zhexuandliu/Biological-LM/blob/main/Protein_Language_Model_Demo.ipynb\" target=\"_parent\"><img src=\"https://colab.research.google.com/assets/colab-badge.svg\" alt=\"Open In Colab\"/></a>"
      ]
    },
    {
      "cell_type": "markdown",
      "source": [
        "# Protein Language Model Demo\n",
        "\n",
        "This notebook accompanies the paper \"Primer on Language Models for Biological Research\". Here, we demonstrate three approaches for applying a pre-trained protein language model to downstream applications:\n",
        "\n",
        "1. Direct Prediction\n",
        "\n",
        "2. Embedding Analysis\n",
        "\n",
        "3. Transfer Learning\n",
        "\n",
        "This illustrates these methods in the context of a protein language model (ESM2), but the general methodologies apply across any natural language or biological language model.\n",
        "\n",
        "The code below was adapted from the HuggingFace tutorial for ESM. See the [original notebook](https://colab.research.google.com/github/huggingface/notebooks/blob/main/examples/protein_language_modeling.ipynb) for more examples using this model."
      ],
      "metadata": {
        "id": "CV8zJNYLuYzq"
      }
    },
    {
      "cell_type": "markdown",
      "source": [
        "# Setup\n",
        "\n",
        "We start with a bit of setup, including installing dependencies, importing packages, loading data, and loading models."
      ],
      "metadata": {
        "id": "k1blrtXgIztX"
      }
    },
    {
      "cell_type": "markdown",
      "source": [
        "## Install dependencies"
      ],
      "metadata": {
        "id": "sehCS5fyvOMw"
      }
    },
    {
      "cell_type": "code",
      "source": [
        "!pip install datasets evaluate fair-esm pandas torch transformers[torch] umap-learn xgboost"
      ],
      "metadata": {
        "colab": {
          "base_uri": "https://localhost:8080/"
        },
        "id": "6oT8CpAoAIpK",
        "outputId": "4cb853c2-5642-42f4-bc25-c7d44098de47"
      },
      "execution_count": null,
      "outputs": [
        {
          "output_type": "stream",
          "name": "stdout",
          "text": [
            "Collecting datasets\n",
            "  Downloading datasets-2.18.0-py3-none-any.whl (510 kB)\n",
            "\u001b[2K     \u001b[90m━━━━━━━━━━━━━━━━━━━━━━━━━━━━━━━━━━━━━━━━\u001b[0m \u001b[32m510.5/510.5 kB\u001b[0m \u001b[31m2.6 MB/s\u001b[0m eta \u001b[36m0:00:00\u001b[0m\n",
            "\u001b[?25hCollecting evaluate\n",
            "  Downloading evaluate-0.4.1-py3-none-any.whl (84 kB)\n",
            "\u001b[2K     \u001b[90m━━━━━━━━━━━━━━━━━━━━━━━━━━━━━━━━━━━━━━━━\u001b[0m \u001b[32m84.1/84.1 kB\u001b[0m \u001b[31m3.8 MB/s\u001b[0m eta \u001b[36m0:00:00\u001b[0m\n",
            "\u001b[?25hCollecting fair-esm\n",
            "  Downloading fair_esm-2.0.0-py3-none-any.whl (93 kB)\n",
            "\u001b[2K     \u001b[90m━━━━━━━━━━━━━━━━━━━━━━━━━━━━━━━━━━━━━━━━\u001b[0m \u001b[32m93.1/93.1 kB\u001b[0m \u001b[31m4.7 MB/s\u001b[0m eta \u001b[36m0:00:00\u001b[0m\n",
            "\u001b[?25hRequirement already satisfied: pandas in /usr/local/lib/python3.10/dist-packages (1.5.3)\n",
            "Requirement already satisfied: torch in /usr/local/lib/python3.10/dist-packages (2.2.1+cu121)\n",
            "Requirement already satisfied: transformers[torch] in /usr/local/lib/python3.10/dist-packages (4.38.2)\n",
            "Collecting umap-learn\n",
            "  Downloading umap-learn-0.5.5.tar.gz (90 kB)\n",
            "\u001b[2K     \u001b[90m━━━━━━━━━━━━━━━━━━━━━━━━━━━━━━━━━━━━━━━━\u001b[0m \u001b[32m90.9/90.9 kB\u001b[0m \u001b[31m7.8 MB/s\u001b[0m eta \u001b[36m0:00:00\u001b[0m\n",
            "\u001b[?25h  Preparing metadata (setup.py) ... \u001b[?25l\u001b[?25hdone\n",
            "Requirement already satisfied: xgboost in /usr/local/lib/python3.10/dist-packages (2.0.3)\n",
            "Requirement already satisfied: filelock in /usr/local/lib/python3.10/dist-packages (from datasets) (3.13.1)\n",
            "Requirement already satisfied: numpy>=1.17 in /usr/local/lib/python3.10/dist-packages (from datasets) (1.25.2)\n",
            "Requirement already satisfied: pyarrow>=12.0.0 in /usr/local/lib/python3.10/dist-packages (from datasets) (14.0.2)\n",
            "Requirement already satisfied: pyarrow-hotfix in /usr/local/lib/python3.10/dist-packages (from datasets) (0.6)\n",
            "Collecting dill<0.3.9,>=0.3.0 (from datasets)\n",
            "  Downloading dill-0.3.8-py3-none-any.whl (116 kB)\n",
            "\u001b[2K     \u001b[90m━━━━━━━━━━━━━━━━━━━━━━━━━━━━━━━━━━━━━━━━\u001b[0m \u001b[32m116.3/116.3 kB\u001b[0m \u001b[31m6.6 MB/s\u001b[0m eta \u001b[36m0:00:00\u001b[0m\n",
            "\u001b[?25hRequirement already satisfied: requests>=2.19.0 in /usr/local/lib/python3.10/dist-packages (from datasets) (2.31.0)\n",
            "Requirement already satisfied: tqdm>=4.62.1 in /usr/local/lib/python3.10/dist-packages (from datasets) (4.66.2)\n",
            "Collecting xxhash (from datasets)\n",
            "  Downloading xxhash-3.4.1-cp310-cp310-manylinux_2_17_x86_64.manylinux2014_x86_64.whl (194 kB)\n",
            "\u001b[2K     \u001b[90m━━━━━━━━━━━━━━━━━━━━━━━━━━━━━━━━━━━━━━━━\u001b[0m \u001b[32m194.1/194.1 kB\u001b[0m \u001b[31m7.3 MB/s\u001b[0m eta \u001b[36m0:00:00\u001b[0m\n",
            "\u001b[?25hCollecting multiprocess (from datasets)\n",
            "  Downloading multiprocess-0.70.16-py310-none-any.whl (134 kB)\n",
            "\u001b[2K     \u001b[90m━━━━━━━━━━━━━━━━━━━━━━━━━━━━━━━━━━━━━━━━\u001b[0m \u001b[32m134.8/134.8 kB\u001b[0m \u001b[31m5.0 MB/s\u001b[0m eta \u001b[36m0:00:00\u001b[0m\n",
            "\u001b[?25hRequirement already satisfied: fsspec[http]<=2024.2.0,>=2023.1.0 in /usr/local/lib/python3.10/dist-packages (from datasets) (2023.6.0)\n",
            "Requirement already satisfied: aiohttp in /usr/local/lib/python3.10/dist-packages (from datasets) (3.9.3)\n",
            "Requirement already satisfied: huggingface-hub>=0.19.4 in /usr/local/lib/python3.10/dist-packages (from datasets) (0.20.3)\n",
            "Requirement already satisfied: packaging in /usr/local/lib/python3.10/dist-packages (from datasets) (24.0)\n",
            "Requirement already satisfied: pyyaml>=5.1 in /usr/local/lib/python3.10/dist-packages (from datasets) (6.0.1)\n",
            "Collecting responses<0.19 (from evaluate)\n",
            "  Downloading responses-0.18.0-py3-none-any.whl (38 kB)\n",
            "Requirement already satisfied: python-dateutil>=2.8.1 in /usr/local/lib/python3.10/dist-packages (from pandas) (2.8.2)\n",
            "Requirement already satisfied: pytz>=2020.1 in /usr/local/lib/python3.10/dist-packages (from pandas) (2023.4)\n",
            "Requirement already satisfied: typing-extensions>=4.8.0 in /usr/local/lib/python3.10/dist-packages (from torch) (4.10.0)\n",
            "Requirement already satisfied: sympy in /usr/local/lib/python3.10/dist-packages (from torch) (1.12)\n",
            "Requirement already satisfied: networkx in /usr/local/lib/python3.10/dist-packages (from torch) (3.2.1)\n",
            "Requirement already satisfied: jinja2 in /usr/local/lib/python3.10/dist-packages (from torch) (3.1.3)\n",
            "Collecting nvidia-cuda-nvrtc-cu12==12.1.105 (from torch)\n",
            "  Downloading nvidia_cuda_nvrtc_cu12-12.1.105-py3-none-manylinux1_x86_64.whl (23.7 MB)\n",
            "\u001b[2K     \u001b[90m━━━━━━━━━━━━━━━━━━━━━━━━━━━━━━━━━━━━━━━━\u001b[0m \u001b[32m23.7/23.7 MB\u001b[0m \u001b[31m16.2 MB/s\u001b[0m eta \u001b[36m0:00:00\u001b[0m\n",
            "\u001b[?25hCollecting nvidia-cuda-runtime-cu12==12.1.105 (from torch)\n",
            "  Downloading nvidia_cuda_runtime_cu12-12.1.105-py3-none-manylinux1_x86_64.whl (823 kB)\n",
            "\u001b[2K     \u001b[90m━━━━━━━━━━━━━━━━━━━━━━━━━━━━━━━━━━━━━━━━\u001b[0m \u001b[32m823.6/823.6 kB\u001b[0m \u001b[31m19.9 MB/s\u001b[0m eta \u001b[36m0:00:00\u001b[0m\n",
            "\u001b[?25hCollecting nvidia-cuda-cupti-cu12==12.1.105 (from torch)\n",
            "  Downloading nvidia_cuda_cupti_cu12-12.1.105-py3-none-manylinux1_x86_64.whl (14.1 MB)\n",
            "\u001b[2K     \u001b[90m━━━━━━━━━━━━━━━━━━━━━━━━━━━━━━━━━━━━━━━━\u001b[0m \u001b[32m14.1/14.1 MB\u001b[0m \u001b[31m30.4 MB/s\u001b[0m eta \u001b[36m0:00:00\u001b[0m\n",
            "\u001b[?25hCollecting nvidia-cudnn-cu12==8.9.2.26 (from torch)\n",
            "  Downloading nvidia_cudnn_cu12-8.9.2.26-py3-none-manylinux1_x86_64.whl (731.7 MB)\n",
            "\u001b[2K     \u001b[90m━━━━━━━━━━━━━━━━━━━━━━━━━━━━━━━━━━━━━━━━\u001b[0m \u001b[32m731.7/731.7 MB\u001b[0m \u001b[31m1.3 MB/s\u001b[0m eta \u001b[36m0:00:00\u001b[0m\n",
            "\u001b[?25hCollecting nvidia-cublas-cu12==12.1.3.1 (from torch)\n",
            "  Downloading nvidia_cublas_cu12-12.1.3.1-py3-none-manylinux1_x86_64.whl (410.6 MB)\n",
            "\u001b[2K     \u001b[90m━━━━━━━━━━━━━━━━━━━━━━━━━━━━━━━━━━━━━━━━\u001b[0m \u001b[32m410.6/410.6 MB\u001b[0m \u001b[31m2.6 MB/s\u001b[0m eta \u001b[36m0:00:00\u001b[0m\n",
            "\u001b[?25hCollecting nvidia-cufft-cu12==11.0.2.54 (from torch)\n",
            "  Downloading nvidia_cufft_cu12-11.0.2.54-py3-none-manylinux1_x86_64.whl (121.6 MB)\n",
            "\u001b[2K     \u001b[90m━━━━━━━━━━━━━━━━━━━━━━━━━━━━━━━━━━━━━━━━\u001b[0m \u001b[32m121.6/121.6 MB\u001b[0m \u001b[31m5.8 MB/s\u001b[0m eta \u001b[36m0:00:00\u001b[0m\n",
            "\u001b[?25hCollecting nvidia-curand-cu12==10.3.2.106 (from torch)\n",
            "  Downloading nvidia_curand_cu12-10.3.2.106-py3-none-manylinux1_x86_64.whl (56.5 MB)\n",
            "\u001b[2K     \u001b[90m━━━━━━━━━━━━━━━━━━━━━━━━━━━━━━━━━━━━━━━━\u001b[0m \u001b[32m56.5/56.5 MB\u001b[0m \u001b[31m6.8 MB/s\u001b[0m eta \u001b[36m0:00:00\u001b[0m\n",
            "\u001b[?25hCollecting nvidia-cusolver-cu12==11.4.5.107 (from torch)\n",
            "  Downloading nvidia_cusolver_cu12-11.4.5.107-py3-none-manylinux1_x86_64.whl (124.2 MB)\n",
            "\u001b[2K     \u001b[90m━━━━━━━━━━━━━━━━━━━━━━━━━━━━━━━━━━━━━━━━\u001b[0m \u001b[32m124.2/124.2 MB\u001b[0m \u001b[31m5.3 MB/s\u001b[0m eta \u001b[36m0:00:00\u001b[0m\n",
            "\u001b[?25hCollecting nvidia-cusparse-cu12==12.1.0.106 (from torch)\n",
            "  Downloading nvidia_cusparse_cu12-12.1.0.106-py3-none-manylinux1_x86_64.whl (196.0 MB)\n",
            "\u001b[2K     \u001b[90m━━━━━━━━━━━━━━━━━━━━━━━━━━━━━━━━━━━━━━━━\u001b[0m \u001b[32m196.0/196.0 MB\u001b[0m \u001b[31m2.9 MB/s\u001b[0m eta \u001b[36m0:00:00\u001b[0m\n",
            "\u001b[?25hCollecting nvidia-nccl-cu12==2.19.3 (from torch)\n",
            "  Downloading nvidia_nccl_cu12-2.19.3-py3-none-manylinux1_x86_64.whl (166.0 MB)\n",
            "\u001b[2K     \u001b[90m━━━━━━━━━━━━━━━━━━━━━━━━━━━━━━━━━━━━━━━━\u001b[0m \u001b[32m166.0/166.0 MB\u001b[0m \u001b[31m3.5 MB/s\u001b[0m eta \u001b[36m0:00:00\u001b[0m\n",
            "\u001b[?25hCollecting nvidia-nvtx-cu12==12.1.105 (from torch)\n",
            "  Downloading nvidia_nvtx_cu12-12.1.105-py3-none-manylinux1_x86_64.whl (99 kB)\n",
            "\u001b[2K     \u001b[90m━━━━━━━━━━━━━━━━━━━━━━━━━━━━━━━━━━━━━━━━\u001b[0m \u001b[32m99.1/99.1 kB\u001b[0m \u001b[31m6.7 MB/s\u001b[0m eta \u001b[36m0:00:00\u001b[0m\n",
            "\u001b[?25hRequirement already satisfied: triton==2.2.0 in /usr/local/lib/python3.10/dist-packages (from torch) (2.2.0)\n",
            "Collecting nvidia-nvjitlink-cu12 (from nvidia-cusolver-cu12==11.4.5.107->torch)\n",
            "  Downloading nvidia_nvjitlink_cu12-12.4.99-py3-none-manylinux2014_x86_64.whl (21.1 MB)\n",
            "\u001b[2K     \u001b[90m━━━━━━━━━━━━━━━━━━━━━━━━━━━━━━━━━━━━━━━━\u001b[0m \u001b[32m21.1/21.1 MB\u001b[0m \u001b[31m7.6 MB/s\u001b[0m eta \u001b[36m0:00:00\u001b[0m\n",
            "\u001b[?25hRequirement already satisfied: regex!=2019.12.17 in /usr/local/lib/python3.10/dist-packages (from transformers[torch]) (2023.12.25)\n",
            "Requirement already satisfied: tokenizers<0.19,>=0.14 in /usr/local/lib/python3.10/dist-packages (from transformers[torch]) (0.15.2)\n",
            "Requirement already satisfied: safetensors>=0.4.1 in /usr/local/lib/python3.10/dist-packages (from transformers[torch]) (0.4.2)\n",
            "Collecting accelerate>=0.21.0 (from transformers[torch])\n",
            "  Downloading accelerate-0.28.0-py3-none-any.whl (290 kB)\n",
            "\u001b[2K     \u001b[90m━━━━━━━━━━━━━━━━━━━━━━━━━━━━━━━━━━━━━━━━\u001b[0m \u001b[32m290.1/290.1 kB\u001b[0m \u001b[31m5.8 MB/s\u001b[0m eta \u001b[36m0:00:00\u001b[0m\n",
            "\u001b[?25hRequirement already satisfied: scipy>=1.3.1 in /usr/local/lib/python3.10/dist-packages (from umap-learn) (1.11.4)\n",
            "Requirement already satisfied: scikit-learn>=0.22 in /usr/local/lib/python3.10/dist-packages (from umap-learn) (1.2.2)\n",
            "Requirement already satisfied: numba>=0.51.2 in /usr/local/lib/python3.10/dist-packages (from umap-learn) (0.58.1)\n",
            "Collecting pynndescent>=0.5 (from umap-learn)\n",
            "  Downloading pynndescent-0.5.11-py3-none-any.whl (55 kB)\n",
            "\u001b[2K     \u001b[90m━━━━━━━━━━━━━━━━━━━━━━━━━━━━━━━━━━━━━━━━\u001b[0m \u001b[32m55.8/55.8 kB\u001b[0m \u001b[31m5.4 MB/s\u001b[0m eta \u001b[36m0:00:00\u001b[0m\n",
            "\u001b[?25hRequirement already satisfied: psutil in /usr/local/lib/python3.10/dist-packages (from accelerate>=0.21.0->transformers[torch]) (5.9.5)\n",
            "Requirement already satisfied: aiosignal>=1.1.2 in /usr/local/lib/python3.10/dist-packages (from aiohttp->datasets) (1.3.1)\n",
            "Requirement already satisfied: attrs>=17.3.0 in /usr/local/lib/python3.10/dist-packages (from aiohttp->datasets) (23.2.0)\n",
            "Requirement already satisfied: frozenlist>=1.1.1 in /usr/local/lib/python3.10/dist-packages (from aiohttp->datasets) (1.4.1)\n",
            "Requirement already satisfied: multidict<7.0,>=4.5 in /usr/local/lib/python3.10/dist-packages (from aiohttp->datasets) (6.0.5)\n",
            "Requirement already satisfied: yarl<2.0,>=1.0 in /usr/local/lib/python3.10/dist-packages (from aiohttp->datasets) (1.9.4)\n",
            "Requirement already satisfied: async-timeout<5.0,>=4.0 in /usr/local/lib/python3.10/dist-packages (from aiohttp->datasets) (4.0.3)\n",
            "Requirement already satisfied: llvmlite<0.42,>=0.41.0dev0 in /usr/local/lib/python3.10/dist-packages (from numba>=0.51.2->umap-learn) (0.41.1)\n",
            "Requirement already satisfied: joblib>=0.11 in /usr/local/lib/python3.10/dist-packages (from pynndescent>=0.5->umap-learn) (1.3.2)\n",
            "Requirement already satisfied: six>=1.5 in /usr/local/lib/python3.10/dist-packages (from python-dateutil>=2.8.1->pandas) (1.16.0)\n",
            "Requirement already satisfied: charset-normalizer<4,>=2 in /usr/local/lib/python3.10/dist-packages (from requests>=2.19.0->datasets) (3.3.2)\n",
            "Requirement already satisfied: idna<4,>=2.5 in /usr/local/lib/python3.10/dist-packages (from requests>=2.19.0->datasets) (3.6)\n",
            "Requirement already satisfied: urllib3<3,>=1.21.1 in /usr/local/lib/python3.10/dist-packages (from requests>=2.19.0->datasets) (2.0.7)\n",
            "Requirement already satisfied: certifi>=2017.4.17 in /usr/local/lib/python3.10/dist-packages (from requests>=2.19.0->datasets) (2024.2.2)\n",
            "Requirement already satisfied: threadpoolctl>=2.0.0 in /usr/local/lib/python3.10/dist-packages (from scikit-learn>=0.22->umap-learn) (3.3.0)\n",
            "Requirement already satisfied: MarkupSafe>=2.0 in /usr/local/lib/python3.10/dist-packages (from jinja2->torch) (2.1.5)\n",
            "Requirement already satisfied: mpmath>=0.19 in /usr/local/lib/python3.10/dist-packages (from sympy->torch) (1.3.0)\n",
            "Building wheels for collected packages: umap-learn\n",
            "  Building wheel for umap-learn (setup.py) ... \u001b[?25l\u001b[?25hdone\n",
            "  Created wheel for umap-learn: filename=umap_learn-0.5.5-py3-none-any.whl size=86832 sha256=6e12fd486a865dde50ead368d5f0843e41c1366fd95aadd30b8c645b8da7ff4b\n",
            "  Stored in directory: /root/.cache/pip/wheels/3a/70/07/428d2b58660a1a3b431db59b806a10da736612ebbc66c1bcc5\n",
            "Successfully built umap-learn\n",
            "Installing collected packages: fair-esm, xxhash, nvidia-nvtx-cu12, nvidia-nvjitlink-cu12, nvidia-nccl-cu12, nvidia-curand-cu12, nvidia-cufft-cu12, nvidia-cuda-runtime-cu12, nvidia-cuda-nvrtc-cu12, nvidia-cuda-cupti-cu12, nvidia-cublas-cu12, dill, responses, nvidia-cusparse-cu12, nvidia-cudnn-cu12, multiprocess, pynndescent, nvidia-cusolver-cu12, umap-learn, datasets, evaluate, accelerate\n",
            "Successfully installed accelerate-0.28.0 datasets-2.18.0 dill-0.3.8 evaluate-0.4.1 fair-esm-2.0.0 multiprocess-0.70.16 nvidia-cublas-cu12-12.1.3.1 nvidia-cuda-cupti-cu12-12.1.105 nvidia-cuda-nvrtc-cu12-12.1.105 nvidia-cuda-runtime-cu12-12.1.105 nvidia-cudnn-cu12-8.9.2.26 nvidia-cufft-cu12-11.0.2.54 nvidia-curand-cu12-10.3.2.106 nvidia-cusolver-cu12-11.4.5.107 nvidia-cusparse-cu12-12.1.0.106 nvidia-nccl-cu12-2.19.3 nvidia-nvjitlink-cu12-12.4.99 nvidia-nvtx-cu12-12.1.105 pynndescent-0.5.11 responses-0.18.0 umap-learn-0.5.5 xxhash-3.4.1\n"
          ]
        }
      ]
    },
    {
      "cell_type": "markdown",
      "source": [
        "## Import packages"
      ],
      "metadata": {
        "id": "zJfJun96vYrG"
      }
    },
    {
      "cell_type": "code",
      "source": [
        "import matplotlib.pyplot as plt\n",
        "import numpy as np\n",
        "import pandas as pd\n",
        "import seaborn as sns\n",
        "import torch\n",
        "from datasets import Dataset\n",
        "from esm import ESM2, Alphabet, BatchConverter\n",
        "from esm.pretrained import esm2_t6_8M_UR50D\n",
        "from evaluate import load\n",
        "from time import time\n",
        "from transformers import AutoModelForSequenceClassification, AutoTokenizer, TrainingArguments, Trainer\n",
        "from tqdm import trange\n",
        "from umap import UMAP\n",
        "from xgboost import XGBClassifier"
      ],
      "metadata": {
        "id": "rnJuwgAtCHVb"
      },
      "execution_count": null,
      "outputs": []
    },
    {
      "cell_type": "markdown",
      "source": [
        "# Load data\n",
        "\n",
        "For this demo, we use a dataset of 5,132 human proteins of length 80-500 downloaded from UniProt. Each protein included has a subcellular localization of either the cytosol or cell membrane. We use this data to try to classify whether each sequence is localized within the cytosol (label = 0) or in the membrane (label = 1).\n",
        "\n",
        "In the code below we randomly sample 100 examples from this dataset to reduce the time required to run the notebook. If adapting this for a non-toy example, this should be skipped.\n",
        "\n",
        "See the [HuggingFace tutorial](https://colab.research.google.com/github/huggingface/notebooks/blob/main/examples/protein_language_modeling.ipynb) for a walk-through of the dataset generation process."
      ],
      "metadata": {
        "id": "CxaQ78zjChJA"
      }
    },
    {
      "cell_type": "code",
      "source": [
        "# Download train and test data\n",
        "!wget https://raw.githubusercontent.com/swansonk14/language_models_biology/main/membrane_vs_cytosol_train.csv\n",
        "!wget https://raw.githubusercontent.com/swansonk14/language_models_biology/main/membrane_vs_cytosol_test.csv\n",
        "\n",
        "# Load train and test data\n",
        "train = pd.read_csv(\"membrane_vs_cytosol_train.csv\")\n",
        "test = pd.read_csv(\"membrane_vs_cytosol_test.csv\")\n",
        "\n",
        "# Randomly sample 50 examples from each of train/test to reduce run-time for example\n",
        "n_sample = 50\n",
        "train = train.sample(n=n_sample, random_state=0, replace=False)\n",
        "test = test.sample(n=n_sample, random_state=0, replace=False)\n",
        "\n",
        "# Extract lists of sequences and cytosol/membrane labels\n",
        "train_sequences = train[\"sequences\"].tolist()\n",
        "train_labels = train[\"labels\"].tolist()\n",
        "\n",
        "test_sequences = test[\"sequences\"].tolist()\n",
        "test_labels = test[\"labels\"].tolist()\n",
        "\n",
        "# Combine train and test sequences/labels for some downstream applications\n",
        "sequences = train_sequences + test_sequences\n",
        "labels = np.array(train_labels + test_labels)"
      ],
      "metadata": {
        "colab": {
          "base_uri": "https://localhost:8080/"
        },
        "id": "y3z-kpBM-8NP",
        "outputId": "3c1178ad-8fc2-4237-c49c-29d0dfb12ef8"
      },
      "execution_count": null,
      "outputs": [
        {
          "output_type": "stream",
          "name": "stdout",
          "text": [
            "--2024-03-18 01:22:50--  https://raw.githubusercontent.com/swansonk14/language_models_biology/main/membrane_vs_cytosol_train.csv\n",
            "Resolving raw.githubusercontent.com (raw.githubusercontent.com)... 185.199.108.133, 185.199.109.133, 185.199.110.133, ...\n",
            "Connecting to raw.githubusercontent.com (raw.githubusercontent.com)|185.199.108.133|:443... connected.\n",
            "HTTP request sent, awaiting response... 200 OK\n",
            "Length: 1140911 (1.1M) [text/plain]\n",
            "Saving to: ‘membrane_vs_cytosol_train.csv.3’\n",
            "\n",
            "membrane_vs_cytosol 100%[===================>]   1.09M  --.-KB/s    in 0.05s   \n",
            "\n",
            "2024-03-18 01:22:50 (22.0 MB/s) - ‘membrane_vs_cytosol_train.csv.3’ saved [1140911/1140911]\n",
            "\n",
            "--2024-03-18 01:22:50--  https://raw.githubusercontent.com/swansonk14/language_models_biology/main/membrane_vs_cytosol_test.csv\n",
            "Resolving raw.githubusercontent.com (raw.githubusercontent.com)... 185.199.108.133, 185.199.109.133, 185.199.110.133, ...\n",
            "Connecting to raw.githubusercontent.com (raw.githubusercontent.com)|185.199.108.133|:443... connected.\n",
            "HTTP request sent, awaiting response... 200 OK\n",
            "Length: 380710 (372K) [text/plain]\n",
            "Saving to: ‘membrane_vs_cytosol_test.csv.3’\n",
            "\n",
            "membrane_vs_cytosol 100%[===================>] 371.79K  --.-KB/s    in 0.03s   \n",
            "\n",
            "2024-03-18 01:22:51 (10.4 MB/s) - ‘membrane_vs_cytosol_test.csv.3’ saved [380710/380710]\n",
            "\n"
          ]
        }
      ]
    },
    {
      "cell_type": "markdown",
      "source": [
        "## Load model\n",
        "\n",
        "Here, we load the smallest ESM2 model, which is a 6-layer Transformer with 8 million parameters. If you want to use a different model, import it from `esm.pretrained` above and call it here instead of `esm2_t6_8M_UR50D`. To clarify the model naming convention:\n",
        "* `t6` The model is a transformer with 6 layers\n",
        "* `8M` There are 8 million parameters in the model\n",
        "* `UR50D` The training data is sequences from UniRef50"
      ],
      "metadata": {
        "id": "1XSdjd1xwsE0"
      }
    },
    {
      "cell_type": "code",
      "source": [
        "# Load model and associated objects\n",
        "model, alphabet = esm2_t6_8M_UR50D()\n",
        "batch_converter = alphabet.get_batch_converter()\n",
        "model.eval()\n",
        "\n",
        "# Define the final layer of the model\n",
        "# If you select a model with a different number of layers, change this value\n",
        "final_layer = 6"
      ],
      "metadata": {
        "id": "O5aezTRAI7fR"
      },
      "execution_count": null,
      "outputs": []
    },
    {
      "cell_type": "markdown",
      "source": [
        "# Method #1: Direct Prediction\n",
        "\n",
        "The direct prediction method uses the pre-trained model as is (without any additional training) to make predictions.\n",
        "\n",
        "For a protein language model like ESM2, the model predicts an output for each amino acid in the protein sequence. This output is the predicted probability that each of the 20 possible amino acids would be found at this position. The direct prediction method can either use these probabilities, or it can use the most probable (\"predicted\") amino acid at each position, depending on the application.\n",
        "\n",
        "Below, we are interested in determining whether a single point mutation to a protein sequence is pathogenic or benign. There are multiple ways to use a protein language model for this task. In this tutorial, we approach this by masking$^*$ out the position we are interested in and then querying ESM2 for the probabilities of the wildtype and mutant amino acids at that position. Calculating the log likelihood ratio, LLR = `log(prob(mutant) / prob(wildtype))`, gives the relative likelihood of the mutant form compared to the wildtype form. Prior work has shown that these likelihood ratios are predictive of mutation effect and pathogenicity (https://www.biorxiv.org/content/10.1101/2021.07.09.450648v2, https://www.nature.com/articles/s41588-023-01465-0).\n",
        "\n",
        "$^*$See primer for definition and details on masking in languge models."
      ],
      "metadata": {
        "id": "9zReXLwWINaX"
      }
    },
    {
      "cell_type": "code",
      "source": [
        "# Define a function to run ESM2 and compute probabilities\n",
        "def get_esm_probabilities(\n",
        "    model: ESM2,\n",
        "    batch_converter: BatchConverter,\n",
        "    sequences: list[str],\n",
        "    batch_size: int = 2\n",
        ") -> torch.FloatTensor:\n",
        "    \"\"\"Given amino acid sequences, uses an ESM2 model to compute the probability\n",
        "    of each amino acid at each position in each sequence.\n",
        "\n",
        "    :param model: A pre-trained ESM2 model.\n",
        "    :param batch_converter: An ESM2 batch converter.\n",
        "    :param sequences: A list of protein sequences.\n",
        "    :param batch_size: The batch size (# of protein sequences per batch).\n",
        "    :return: A Torch FloatTensor of size (num_sequences, sequence_length, num_amino_acids)\n",
        "      containing the probability of each amino acid at each position in each sequence.\n",
        "    \"\"\"\n",
        "    # Convert protein sequences to (name, sequence) format expected by ESM2\n",
        "    name_sequences = [(f\"protein_{i}\", sequence) for i, sequence in enumerate(sequences)]\n",
        "\n",
        "    # Set up list to store computed probabilities\n",
        "    all_sequence_probabilities = []\n",
        "\n",
        "    # Make probability predictions on all sequences\n",
        "    with torch.no_grad():\n",
        "        # Iterate over batches of sequences\n",
        "        for i in trange(0, len(name_sequences), batch_size):\n",
        "            # Extract batch data\n",
        "            batch_name_sequences = name_sequences[i:i + batch_size]\n",
        "\n",
        "            # Convert batch data to ESM2 format\n",
        "            batch_labels, batch_strs, batch_tokens = batch_converter(batch_name_sequences)\n",
        "\n",
        "            # Compute logits for the sequences\n",
        "            logits = model(batch_tokens, return_contacts=False)[\"logits\"]\n",
        "\n",
        "            # Apply softmax to get amino acid probabilities\n",
        "            probabilities = torch.softmax(logits, dim=-1)\n",
        "\n",
        "            # Save probabilities\n",
        "            all_sequence_probabilities.append(probabilities)\n",
        "\n",
        "    # Concatenate probabilities across batches\n",
        "    all_sequence_probabilities = torch.cat(all_sequence_probabilities)\n",
        "\n",
        "    return all_sequence_probabilities"
      ],
      "metadata": {
        "id": "JtI9H-JSJFSX"
      },
      "execution_count": null,
      "outputs": []
    },
    {
      "cell_type": "markdown",
      "source": [
        "For this example we sample the first protein in our training dataset. This corresponds to Nucleosome assembly protein 1-like 4, a protein that can shuttle between the cytoplasm and nucleus interacting with histones (see [UniProt](https://www.uniprot.org/uniprotkb/Q99733/entry) or [NCBI](https://www.ncbi.nlm.nih.gov/gene/4676) for more details on molecular function or the [UniProt variant viewer](https://www.uniprot.org/uniprotkb/Q99733/variant-viewer) for details on measured and predicted consequences of varitants)."
      ],
      "metadata": {
        "id": "vyf00bVaKBG4"
      }
    },
    {
      "cell_type": "code",
      "source": [
        "# Select a protein sequence\n",
        "original_sequence = train_sequences[0]\n",
        "\n",
        "# Choose a position to analyze\n",
        "mask_index = 3\n",
        "\n",
        "# Replace the chosen amino acid with a mask token\n",
        "masked_sequence = original_sequence[:mask_index] + \"<mask>\" + original_sequence[mask_index + 1:]\n",
        "\n",
        "# Compute ESM probabilities for the masked sequence\n",
        "all_probs = get_esm_probabilities(\n",
        "    model=model,\n",
        "    batch_converter=batch_converter,\n",
        "    sequences=[masked_sequence]\n",
        ")\n",
        "\n",
        "# Extract probabilities for the first sequence. Can extract probabilities for other sequences by changing the index.\n",
        "\n",
        "protein_probs = all_probs[0]\n",
        "\n",
        "print()\n",
        "print(f\"The input protein has {len(train_sequences[0])} amino acids and \" +\n",
        "      f\"the shape of the model's output is {protein_probs.numpy().shape}\")"
      ],
      "metadata": {
        "id": "--Rhb874JELB",
        "colab": {
          "base_uri": "https://localhost:8080/"
        },
        "outputId": "bd85d3cd-4ed0-4c81-c15a-8692466b21f9"
      },
      "execution_count": null,
      "outputs": [
        {
          "output_type": "stream",
          "name": "stderr",
          "text": [
            "100%|██████████| 1/1 [00:00<00:00,  2.45it/s]"
          ]
        },
        {
          "output_type": "stream",
          "name": "stdout",
          "text": [
            "\n",
            "The input protein has 375 amino acids and the shape of the model's output is (377, 33)\n"
          ]
        },
        {
          "output_type": "stream",
          "name": "stderr",
          "text": [
            "\n"
          ]
        }
      ]
    },
    {
      "cell_type": "markdown",
      "source": [
        "Note that the final output is 377 (length of the protein sequence + 2) by 33 (number of standard amino acids + 13). The 13 extra types of tokens are because a protein sequence can includes a few non-standard amino acids (X,B,U,Z,O), some gap/deletions tokens (., -) and other tokens useful for training (e.g. start and end of sequences, etc.). Similarly, the two extra tokens added to our particular sequence correspond to the beginning and end of the sequence. We do not require any 'padding' tokens as we only have 1 sequence, but we ran multiple sequences through the model at once, it would pad them to be a fixed length.\n",
        "\n",
        "For more information on these tokens feel free to explore the attributes in the `alphabet` object. Below see that we enumerate through `alphabet.stadard_toks` which lists all of the amino acid tokens, but you can also explore `alphabet.all_toks`, which lists all extra tokens too."
      ],
      "metadata": {
        "id": "b19bwD7S90ab"
      }
    },
    {
      "cell_type": "markdown",
      "source": [
        "Now we find the index within the list of 33 possible tokens that corresponds to our wild-type (wt) amino acid, the one that was originally present in our sequence. Then we compare the model's output for all other amino acids against that one. In this case, our wt amino acid is Histidine. If the log-likelihood ratio is < 0, the mutation is predicted to be potentially deleterious."
      ],
      "metadata": {
        "id": "PWk49S2H9_tC"
      }
    },
    {
      "cell_type": "code",
      "source": [
        "# Identify token index for wt amino acid\n",
        "wildtype_amino_acid = original_sequence[mask_index]\n",
        "wildtype_amino_acid_index = alphabet.tok_to_idx[wildtype_amino_acid]\n",
        "\n",
        "# For each amino acid in the list of 'standard tokens', calculate LLR against wt\n",
        "mutant_llr_ratios = []\n",
        "for character in alphabet.standard_toks:\n",
        "  mutant_amino_acid_index = alphabet.tok_to_idx[character]\n",
        "\n",
        "  mutant_llr_ratios.append(torch.log(\n",
        "    protein_probs[mask_index, mutant_amino_acid_index] /\n",
        "    protein_probs[mask_index, wildtype_amino_acid_index]\n",
        "  ).item())\n",
        "\n",
        "# Plot results\n",
        "f = sns.barplot(mutant_llr_ratios)\n",
        "f.set_xticks(range(len(mutant_llr_ratios)))\n",
        "f.set_xticklabels(alphabet.standard_toks)\n",
        "plt.xlabel(\"Amino Acid\")\n",
        "plt.ylabel(\"Log likelihood ratio (mutant / wildtype)\")\n",
        "plt.show()"
      ],
      "metadata": {
        "colab": {
          "base_uri": "https://localhost:8080/",
          "height": 449
        },
        "id": "80h4USN1_jFh",
        "outputId": "c5983429-a838-4cc3-9c27-416e981648cf"
      },
      "execution_count": 13,
      "outputs": [
        {
          "output_type": "display_data",
          "data": {
            "text/plain": [
              "<Figure size 640x480 with 1 Axes>"
            ],
            "image/png": "[encoded data removed]"
          },
          "metadata": {}
        }
      ]
    },
    {
      "cell_type": "markdown",
      "source": [
        "# Method #2: Embedding Analysis\n",
        "\n",
        "The embedding analysis approach, like the direct prediction method, uses the pre-trained model as is. However, rather than obtaining probability or token predictions, the embedding analysis method uses the embeddings (an internal numerical representation) of the protein sequences computed by the model for downstream analyses such as visualization and clustering.\n",
        "\n",
        "Below, we are interested in visualizing the embeddings of protein sequences computed by ESM2 to determine if they can characterize the localization (cytosol or membrane) of proteins. We will first embed all of our protein sequences, by passing the sequences (with no masks) through the model and extracting the internal representation. There are multiple layers at which an embedding _could_ be extracted, here we use the final layer of the model.\n",
        "\n",
        "These embeddings are originally high dimensional (e.g. in the model used here, each sequence is represented by a list of 320 numbers). In order easily visualize them, we use UMAP to reduce the embeddings to 2 dimensions. Finally we will plot the 2-dimensional embeddings and color-code them by protein localization to see whether any patterns emerge."
      ],
      "metadata": {
        "id": "Wr_EWVAkJAaY"
      }
    },
    {
      "cell_type": "code",
      "source": [
        "def generate_esm_embeddings(\n",
        "        model: ESM2,\n",
        "        batch_converter: BatchConverter,\n",
        "        sequences: list[str],\n",
        "        embedding_layer: int,\n",
        "        average_embeddings: bool = False,\n",
        "        batch_size: int = 2\n",
        ") -> torch.FloatTensor:\n",
        "    \"\"\"Generate embeddings of protein sequences using an ESM2 model.\n",
        "\n",
        "    :param model: A pre-trained ESM2 model.\n",
        "    :param batch_converter: An ESM2 batch converter.\n",
        "    :param sequences: A list of tuples of (name, sequence) for the proteins.\n",
        "    :param embedding_layer: Layer of the ESM2 model from which to will extract embeddings.\n",
        "    :param average_embeddings: Whether to average the residue embeddings for each protein.\n",
        "    :param batch_size: The batch size (# of protein sequences per batch).\n",
        "    :return: A Torch FloatTensor of sequence embeddings.\n",
        "      If average_embeddings=True, size is (num_sequences, embedding_size).\n",
        "      If average_embeddings=False, size is (num_sequences, sequence_length, embedding_size).\n",
        "    \"\"\"\n",
        "    # Convert protein sequences to (name, sequence) format expected by ESM2\n",
        "    name_sequences = [(f\"protein_{i}\", sequence) for i, sequence in enumerate(sequences)]\n",
        "\n",
        "    # Set up list to store computed embeddings\n",
        "    embeddings = []\n",
        "\n",
        "    # Make probability predictions on all sequences\n",
        "    with torch.no_grad():\n",
        "        # Iterate over batches of sequences\n",
        "        for i in trange(0, len(sequences), batch_size):\n",
        "            # Extract batch data\n",
        "            batch_name_sequences = name_sequences[i:i + batch_size]\n",
        "\n",
        "            # Convert batch data to ESM2 format\n",
        "            batch_labels, batch_strs, batch_tokens = batch_converter(batch_name_sequences)\n",
        "\n",
        "            # Calculate the length of each sequence in a batch\n",
        "            batch_lengths = (batch_tokens != alphabet.padding_idx).sum(1)\n",
        "\n",
        "            # Subtract 2 from each to remove start and end tokens\n",
        "            batch_lengths -= 2\n",
        "\n",
        "            # Compute embeddings for the sequences\n",
        "            results = model(batch_tokens, repr_layers=[embedding_layer], return_contacts=False)\n",
        "\n",
        "            # Get per-amino acid embeddings for the selected layer\n",
        "            batch_embeddings = results['representations'][embedding_layer]\n",
        "\n",
        "            # Extract embeddings and optionally average across the sequence\n",
        "            for (name, _,), embedding, sequence_len in zip(batch_name_sequences, batch_embeddings, batch_lengths):\n",
        "                # Extract embeddings for amino acids without start, end, or pad tokens\n",
        "                embedding = embedding[1 : sequence_len + 1]\n",
        "\n",
        "                # Optionally, average embeddings across amino acids in the sequence\n",
        "                if average_embeddings:\n",
        "                    embedding = embedding.mean(dim=0)\n",
        "\n",
        "                # Save embeddings\n",
        "                embeddings.append(embedding)\n",
        "\n",
        "    # Stack embeddings across sequences\n",
        "    embeddings = torch.stack(embeddings)\n",
        "\n",
        "    return embeddings"
      ],
      "metadata": {
        "id": "6uzy2cs7B2-F"
      },
      "execution_count": 14,
      "outputs": []
    },
    {
      "cell_type": "code",
      "source": [
        "# Compute embeddings for all sequences (with averaging to give a single embedding per sequence)\n",
        "# This should take about 40 seconds for 50 sequences on the default Colab CPU\n",
        "embeddings = generate_esm_embeddings(\n",
        "    model=model,\n",
        "    batch_converter=batch_converter,\n",
        "    sequences=sequences,\n",
        "    embedding_layer=final_layer,\n",
        "    average_embeddings=True\n",
        ")\n",
        "\n",
        "print(embeddings.shape)"
      ],
      "metadata": {
        "colab": {
          "base_uri": "https://localhost:8080/"
        },
        "id": "3yFVYZXU_hhq",
        "outputId": "48fdf5da-8efb-45e9-d2a3-3d81cf4aea1a"
      },
      "execution_count": 15,
      "outputs": [
        {
          "output_type": "stream",
          "name": "stderr",
          "text": [
            "100%|██████████| 50/50 [00:53<00:00,  1.07s/it]"
          ]
        },
        {
          "output_type": "stream",
          "name": "stdout",
          "text": [
            "torch.Size([100, 320])\n"
          ]
        },
        {
          "output_type": "stream",
          "name": "stderr",
          "text": [
            "\n"
          ]
        }
      ]
    },
    {
      "cell_type": "markdown",
      "source": [
        "We see the embeddings have a shape of 200 (number of sequences) x 320 (embedding dimension). This embedding dimension depends on your model of choice so if you use a model other than `esm_t6_8M_UR50D`, the embedding dimension might differ."
      ],
      "metadata": {
        "id": "MPjeASQwA5Rh"
      }
    },
    {
      "cell_type": "code",
      "source": [
        "# Apply UMAP to reduce the embeddings to two dimensions\n",
        "embeddings_2d = UMAP(random_state=0).fit_transform(embeddings)\n",
        "\n",
        "# Plot the UMAP of embeddings, colored by cytosol/membrane label\n",
        "sns.scatterplot(\n",
        "    x=embeddings_2d[labels == 0, 0],\n",
        "    y=embeddings_2d[labels == 0, 1],\n",
        "    label=\"Cytosol\"\n",
        ")\n",
        "sns.scatterplot(\n",
        "    x=embeddings_2d[labels == 1, 0],\n",
        "    y=embeddings_2d[labels == 1, 1],\n",
        "    label=\"Membrane\"\n",
        ")\n",
        "\n",
        "plt.xlabel(\"UMAP 0\")\n",
        "plt.ylabel(\"UMAP 1\")\n",
        "\n",
        "plt.xticks([])\n",
        "plt.yticks([])\n",
        "\n",
        "plt.legend()\n",
        "\n",
        "plt.show()"
      ],
      "metadata": {
        "colab": {
          "base_uri": "https://localhost:8080/",
          "height": 460
        },
        "id": "u6FFeDmm5QBF",
        "outputId": "a156dc8a-b13e-47bc-a2ba-5725a829e46d"
      },
      "execution_count": 16,
      "outputs": [
        {
          "output_type": "stream",
          "name": "stderr",
          "text": [
            "/usr/local/lib/python3.10/dist-packages/umap/umap_.py:1952: UserWarning: n_jobs value 1 overridden to 1 by setting random_state. Use no seed for parallelism.\n",
            "  warn(\n"
          ]
        },
        {
          "output_type": "display_data",
          "data": {
            "text/plain": [
              "<Figure size 640x480 with 1 Axes>"
            ],
            "image/png": "[encoded data removed]"
          },
          "metadata": {}
        }
      ]
    },
    {
      "cell_type": "markdown",
      "source": [
        "# Method #3: Transfer Learning\n",
        "\n",
        "The transfer learning method starts with the pre-trained language model but applies additional training to adapt the model to a particular downstream application.\n",
        "\n",
        "There are two general techniques for applying transfer learning.\n",
        "\n",
        "1. **Train on Embeddings:** Given limited data and compute, one transfer learning approach is to use the pre-trained model to compute embeddings for each sequence and then train a separate, typically smaller, model to predict the downstream task from those embeddings.\n",
        "\n",
        "2. **Fine-Tune:** Given sufficient data and compute, another transfer learning method is to fine-tune (further train) the language model itself. This could involve fine-tuning some or all of the layers of the model.\n",
        "\n",
        "Below, we demonstrate both transfer learning techniques for predicting protein localization"
      ],
      "metadata": {
        "id": "mbxg0wpY6tFd"
      }
    },
    {
      "cell_type": "markdown",
      "source": [
        "## Method 3-1: Train on Embeddings\n",
        "\n",
        "For this transfer learning method, we will use the protein sequence embeddings we previously computed in Method 2 and train a small XGBoost model with those embeddings as input to predict protein localization."
      ],
      "metadata": {
        "id": "b8iCkf1wIq9M"
      }
    },
    {
      "cell_type": "code",
      "source": [
        "# Load a function to compute accuracy\n",
        "accuracy = load(\"accuracy\")"
      ],
      "metadata": {
        "id": "ISMFDW3pJ8fa"
      },
      "execution_count": null,
      "outputs": []
    },
    {
      "cell_type": "code",
      "source": [
        "# Separate the embeddings into train and test\n",
        "train_embeddings = embeddings[:len(train_sequences)]\n",
        "test_embeddings = embeddings[len(train_sequences):]"
      ],
      "metadata": {
        "id": "S2nLMh-vJPbo"
      },
      "execution_count": null,
      "outputs": []
    },
    {
      "cell_type": "code",
      "source": [
        "# Train an XGB classifier on the training data (embeddings and labels)\n",
        "xgb_model = XGBClassifier(random_state=0).fit(train_embeddings, train_labels)"
      ],
      "metadata": {
        "id": "vEgdbE8fIvex"
      },
      "execution_count": null,
      "outputs": []
    },
    {
      "cell_type": "code",
      "source": [
        "# Use the trained XGB classifier to make predictions on the test data\n",
        "test_preds = xgb_model.predict(test_embeddings)"
      ],
      "metadata": {
        "id": "TX6RA_Sc8_pQ"
      },
      "execution_count": null,
      "outputs": []
    },
    {
      "cell_type": "code",
      "source": [
        "# Evaluate the XGB test predictions\n",
        "print(f\"XGB test accuracy = {accuracy.compute(predictions=test_preds, references=test_labels)['accuracy']}\")"
      ],
      "metadata": {
        "colab": {
          "base_uri": "https://localhost:8080/"
        },
        "id": "nMRZCVbgJepE",
        "outputId": "0a5cad1e-6d2c-4900-ae47-e9bbcad04e62"
      },
      "execution_count": null,
      "outputs": [
        {
          "output_type": "stream",
          "name": "stdout",
          "text": [
            "XGB test accuracy = 0.84\n"
          ]
        }
      ]
    },
    {
      "cell_type": "markdown",
      "source": [
        "## Method 3-2: Fine-Tune\n",
        "\n",
        "For this transfer learning method, we will fine-tune the entire ESM2 model to predict protein localization.\n",
        "\n",
        "Since our protein localization model requires a classification layer at the end of the model, we will load the ESM2 model using an alternate mechanism that replaces the final layer of the model (which typically predicts an amino acid _per position_ of the sequence) with a classification layer that predicts 1 value _per sequence_.\n",
        "\n",
        "This should take about 4.5 minutes to train in the Colab.\n",
        "\n",
        "\n",
        "**Technical Notes**\n",
        "\n",
        "When fine-tuning we need to explicitely define our _tokenizer_. A tokenizer turns a protein representation from a sequence of strings into a sequence of \"tokens\" (integer numbers) that can be fed into the network. In the earlier example, the tokenization process is abstracted away but here we must run it manually."
      ],
      "metadata": {
        "id": "pUezFIV_IuFc"
      }
    },
    {
      "cell_type": "code",
      "source": [
        "# Specify the ESM2 model\n",
        "model_name = \"esm2_t6_8M_UR50D\"\n",
        "model_checkpoint = f\"facebook/{model_name}\"\n",
        "\n",
        "# Load a tokenizer that converts amino acids into the format expected by ESM2\n",
        "tokenizer = AutoTokenizer.from_pretrained(model_checkpoint)\n",
        "\n",
        "# Load the ESM2 model\n",
        "# Note: Ignore warnings some weights not being initialized since we need this for fine-tuning\n",
        "model = AutoModelForSequenceClassification.from_pretrained(model_checkpoint, num_labels=2)\n",
        "\n",
        "# Tokenize the train and test sequences\n",
        "train_tokenized = tokenizer(train[\"sequences\"].tolist())\n",
        "test_tokenized = tokenizer(test[\"sequences\"].tolist())\n",
        "\n",
        "# Convert the train and test sequences into a Dataset object\n",
        "train_dataset = Dataset.from_dict(train_tokenized)\n",
        "test_dataset = Dataset.from_dict(test_tokenized)\n",
        "\n",
        "# Add labels to the train and test datasets\n",
        "train_dataset = train_dataset.add_column(\"labels\", train[\"labels\"].tolist())\n",
        "test_dataset = test_dataset.add_column(\"labels\", test[\"labels\"].tolist())\n",
        "\n",
        "# Define function to compute accuracy for model evaluation\n",
        "def compute_accuracy(eval_pred: tuple[np.ndarray, np.ndarray]) -> float:\n",
        "    \"\"\"Computes the accuracy of predictions.\n",
        "\n",
        "    :param eval_pred: A tuple of NumPy arrays containing an array of predictions\n",
        "      and an array of labels.\n",
        "    :return: The accuracy of the predictions.\n",
        "    \"\"\"\n",
        "    predictions, labels = eval_pred\n",
        "    predictions = np.argmax(predictions, axis=1)\n",
        "    return accuracy.compute(predictions=predictions, references=labels)\n",
        "\n",
        "# Define the ESM2 training arguments\n",
        "args = TrainingArguments(\n",
        "    f\"{model_name}-finetuned-localization\",\n",
        "    evaluation_strategy=\"epoch\",\n",
        "    save_strategy=\"epoch\",\n",
        "    learning_rate=2e-5,\n",
        "    per_device_train_batch_size=4,\n",
        "    per_device_eval_batch_size=4,\n",
        "    num_train_epochs=3,\n",
        "    weight_decay=0.01,\n",
        "    load_best_model_at_end=True,\n",
        "    metric_for_best_model=\"accuracy\"\n",
        ")\n",
        "\n",
        "# Set up the Trainer for training the ESM2 model\n",
        "trainer = Trainer(\n",
        "    model,\n",
        "    args,\n",
        "    train_dataset=train_dataset,\n",
        "    eval_dataset=test_dataset,\n",
        "    tokenizer=tokenizer,\n",
        "    compute_metrics=compute_accuracy,\n",
        ")\n",
        "\n",
        "# Fine-tune the ESM2 model and evaluate prediction accuracy\n",
        "trainer.train()"
      ],
      "metadata": {
        "id": "D34Ug78H95hR",
        "colab": {
          "base_uri": "https://localhost:8080/",
          "height": 314
        },
        "outputId": "d54b0ca3-ead9-44b1-9254-b7ccfc0d36f2"
      },
      "execution_count": null,
      "outputs": [
        {
          "output_type": "stream",
          "name": "stderr",
          "text": [
            "Some weights of EsmForSequenceClassification were not initialized from the model checkpoint at facebook/esm2_t6_8M_UR50D and are newly initialized: ['classifier.dense.bias', 'classifier.dense.weight', 'classifier.out_proj.bias', 'classifier.out_proj.weight']\n",
            "You should probably TRAIN this model on a down-stream task to be able to use it for predictions and inference.\n",
            "/usr/local/lib/python3.10/dist-packages/accelerate/accelerator.py:432: FutureWarning: Passing the following arguments to `Accelerator` is deprecated and will be removed in version 1.0 of Accelerate: dict_keys(['dispatch_batches', 'split_batches', 'even_batches', 'use_seedable_sampler']). Please pass an `accelerate.DataLoaderConfiguration` instead: \n",
            "dataloader_config = DataLoaderConfiguration(dispatch_batches=None, split_batches=False, even_batches=True, use_seedable_sampler=True)\n",
            "  warnings.warn(\n"
          ]
        },
        {
          "output_type": "display_data",
          "data": {
            "text/plain": [
              "<IPython.core.display.HTML object>"
            ],
            "text/html": [
              "\n",
              "    <div>\n",
              "      \n",
              "      <progress value='39' max='39' style='width:300px; height:20px; vertical-align: middle;'></progress>\n",
              "      [39/39 04:28, Epoch 3/3]\n",
              "    </div>\n",
              "    <table border=\"1\" class=\"dataframe\">\n",
              "  <thead>\n",
              " <tr style=\"text-align: left;\">\n",
              "      <th>Epoch</th>\n",
              "      <th>Training Loss</th>\n",
              "      <th>Validation Loss</th>\n",
              "      <th>Accuracy</th>\n",
              "    </tr>\n",
              "  </thead>\n",
              "  <tbody>\n",
              "    <tr>\n",
              "      <td>1</td>\n",
              "      <td>No log</td>\n",
              "      <td>0.663123</td>\n",
              "      <td>0.800000</td>\n",
              "    </tr>\n",
              "    <tr>\n",
              "      <td>2</td>\n",
              "      <td>No log</td>\n",
              "      <td>0.638601</td>\n",
              "      <td>0.820000</td>\n",
              "    </tr>\n",
              "    <tr>\n",
              "      <td>3</td>\n",
              "      <td>No log</td>\n",
              "      <td>0.629226</td>\n",
              "      <td>0.840000</td>\n",
              "    </tr>\n",
              "  </tbody>\n",
              "</table><p>"
            ]
          },
          "metadata": {}
        },
        {
          "output_type": "execute_result",
          "data": {
            "text/plain": [
              "TrainOutput(global_step=39, training_loss=0.6543462704389523, metrics={'train_runtime': 272.8323, 'train_samples_per_second': 0.55, 'train_steps_per_second': 0.143, 'total_flos': 2690325281460.0, 'train_loss': 0.6543462704389523, 'epoch': 3.0})"
            ]
          },
          "metadata": {},
          "execution_count": 71
        }
      ]
    },
    {
      "cell_type": "markdown",
      "source": [
        "## Conclusion\n",
        "\n",
        "In this toy example, we see that both embedding the sequences training on embeddings and fine-tuning the full model are both effective at predicting subcellular localization of these cytosolic and membrane proteins. As we saw in the embedding visualization, the internal embedding of the model already separates many of these proteins, so the extra learning task is not the most challenging. We also see that the fine-tuning method is both more complicated fro the user and takes quite a bit longer than training on the embedding. For this example task, the extra effort and time do improve the performance. However, this can be quite task-dependent, and for more complicated tasks, the extra computational power can be critical."
      ],
      "metadata": {
        "id": "b81DK3tmNnyO"
      }
    },
    {
      "cell_type": "code",
      "source": [],
      "metadata": {
        "id": "-RX4F-74RHID"
      },
      "execution_count": null,
      "outputs": []
    }
  ]
}