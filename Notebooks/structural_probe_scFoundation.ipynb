{
 "cells": [
  {
   "cell_type": "code",
   "execution_count": 1,
   "metadata": {
    "colab": {
     "base_uri": "https://localhost:8080/"
    },
    "executionInfo": {
     "elapsed": 5595,
     "status": "ok",
     "timestamp": 1757900104387,
     "user": {
      "displayName": "Zhexuan Liu",
      "userId": "18073944608501350772"
     },
     "user_tz": 300
    },
    "id": "8txNSnqmboaA",
    "outputId": "b81ec664-6f2e-4c3c-d21a-c15934f78bec"
   },
   "outputs": [
    {
     "name": "stdout",
     "output_type": "stream",
     "text": [
      "Drive already mounted at /content/drive; to attempt to forcibly remount, call drive.mount(\"/content/drive\", force_remount=True).\n",
      "Requirement already satisfied: numpy>=1.21.0 in /usr/local/lib/python3.12/dist-packages (from -r ../requirements.txt (line 2)) (2.0.2)\n",
      "Requirement already satisfied: pandas>=1.3.0 in /usr/local/lib/python3.12/dist-packages (from -r ../requirements.txt (line 3)) (2.2.2)\n",
      "Requirement already satisfied: torch>=2.0.0 in /usr/local/lib/python3.12/dist-packages (from -r ../requirements.txt (line 6)) (2.8.0+cu126)\n",
      "Requirement already satisfied: transformers==4.40 in /usr/local/lib/python3.12/dist-packages (from -r ../requirements.txt (line 9)) (4.40.0)\n",
      "Requirement already satisfied: peft==0.10.0 in /usr/local/lib/python3.12/dist-packages (from -r ../requirements.txt (line 11)) (0.10.0)\n",
      "Requirement already satisfied: mygene==3.2.2 in /usr/local/lib/python3.12/dist-packages (from -r ../requirements.txt (line 12)) (3.2.2)\n",
      "Requirement already satisfied: omnipath==1.0.9 in /usr/local/lib/python3.12/dist-packages (from -r ../requirements.txt (line 13)) (1.0.9)\n",
      "Requirement already satisfied: anndata in /usr/local/lib/python3.12/dist-packages (from -r ../requirements.txt (line 15)) (0.12.2)\n",
      "Requirement already satisfied: filelock in /usr/local/lib/python3.12/dist-packages (from transformers==4.40->-r ../requirements.txt (line 9)) (3.19.1)\n",
      "Requirement already satisfied: huggingface-hub<1.0,>=0.19.3 in /usr/local/lib/python3.12/dist-packages (from transformers==4.40->-r ../requirements.txt (line 9)) (0.34.4)\n",
      "Requirement already satisfied: packaging>=20.0 in /usr/local/lib/python3.12/dist-packages (from transformers==4.40->-r ../requirements.txt (line 9)) (25.0)\n",
      "Requirement already satisfied: pyyaml>=5.1 in /usr/local/lib/python3.12/dist-packages (from transformers==4.40->-r ../requirements.txt (line 9)) (6.0.2)\n",
      "Requirement already satisfied: regex!=2019.12.17 in /usr/local/lib/python3.12/dist-packages (from transformers==4.40->-r ../requirements.txt (line 9)) (2024.11.6)\n",
      "Requirement already satisfied: requests in /usr/local/lib/python3.12/dist-packages (from transformers==4.40->-r ../requirements.txt (line 9)) (2.32.4)\n",
      "Requirement already satisfied: tokenizers<0.20,>=0.19 in /usr/local/lib/python3.12/dist-packages (from transformers==4.40->-r ../requirements.txt (line 9)) (0.19.1)\n",
      "Requirement already satisfied: safetensors>=0.4.1 in /usr/local/lib/python3.12/dist-packages (from transformers==4.40->-r ../requirements.txt (line 9)) (0.6.2)\n",
      "Requirement already satisfied: tqdm>=4.27 in /usr/local/lib/python3.12/dist-packages (from transformers==4.40->-r ../requirements.txt (line 9)) (4.67.1)\n",
      "Requirement already satisfied: psutil in /usr/local/lib/python3.12/dist-packages (from peft==0.10.0->-r ../requirements.txt (line 11)) (5.9.5)\n",
      "Requirement already satisfied: accelerate>=0.21.0 in /usr/local/lib/python3.12/dist-packages (from peft==0.10.0->-r ../requirements.txt (line 11)) (1.10.1)\n",
      "Requirement already satisfied: biothings-client>=0.2.6 in /usr/local/lib/python3.12/dist-packages (from mygene==3.2.2->-r ../requirements.txt (line 12)) (0.4.1)\n",
      "Requirement already satisfied: attrs>=20.2.0 in /usr/local/lib/python3.12/dist-packages (from omnipath==1.0.9->-r ../requirements.txt (line 13)) (25.3.0)\n",
      "Requirement already satisfied: docrep>=0.3.1 in /usr/local/lib/python3.12/dist-packages (from omnipath==1.0.9->-r ../requirements.txt (line 13)) (0.3.2)\n",
      "Requirement already satisfied: inflect>=4.1.0 in /usr/local/lib/python3.12/dist-packages (from omnipath==1.0.9->-r ../requirements.txt (line 13)) (7.5.0)\n",
      "Requirement already satisfied: typing-extensions>=3.7.4.3 in /usr/local/lib/python3.12/dist-packages (from omnipath==1.0.9->-r ../requirements.txt (line 13)) (4.15.0)\n",
      "Requirement already satisfied: urllib3>=1.26.0 in /usr/local/lib/python3.12/dist-packages (from omnipath==1.0.9->-r ../requirements.txt (line 13)) (2.5.0)\n",
      "Requirement already satisfied: wrapt>=1.12.0 in /usr/local/lib/python3.12/dist-packages (from omnipath==1.0.9->-r ../requirements.txt (line 13)) (1.17.3)\n",
      "Requirement already satisfied: python-dateutil>=2.8.2 in /usr/local/lib/python3.12/dist-packages (from pandas>=1.3.0->-r ../requirements.txt (line 3)) (2.9.0.post0)\n",
      "Requirement already satisfied: pytz>=2020.1 in /usr/local/lib/python3.12/dist-packages (from pandas>=1.3.0->-r ../requirements.txt (line 3)) (2025.2)\n",
      "Requirement already satisfied: tzdata>=2022.7 in /usr/local/lib/python3.12/dist-packages (from pandas>=1.3.0->-r ../requirements.txt (line 3)) (2025.2)\n",
      "Requirement already satisfied: setuptools in /usr/local/lib/python3.12/dist-packages (from torch>=2.0.0->-r ../requirements.txt (line 6)) (75.2.0)\n",
      "Requirement already satisfied: sympy>=1.13.3 in /usr/local/lib/python3.12/dist-packages (from torch>=2.0.0->-r ../requirements.txt (line 6)) (1.13.3)\n",
      "Requirement already satisfied: networkx in /usr/local/lib/python3.12/dist-packages (from torch>=2.0.0->-r ../requirements.txt (line 6)) (3.5)\n",
      "Requirement already satisfied: jinja2 in /usr/local/lib/python3.12/dist-packages (from torch>=2.0.0->-r ../requirements.txt (line 6)) (3.1.6)\n",
      "Requirement already satisfied: fsspec in /usr/local/lib/python3.12/dist-packages (from torch>=2.0.0->-r ../requirements.txt (line 6)) (2025.3.0)\n",
      "Requirement already satisfied: nvidia-cuda-nvrtc-cu12==12.6.77 in /usr/local/lib/python3.12/dist-packages (from torch>=2.0.0->-r ../requirements.txt (line 6)) (12.6.77)\n",
      "Requirement already satisfied: nvidia-cuda-runtime-cu12==12.6.77 in /usr/local/lib/python3.12/dist-packages (from torch>=2.0.0->-r ../requirements.txt (line 6)) (12.6.77)\n",
      "Requirement already satisfied: nvidia-cuda-cupti-cu12==12.6.80 in /usr/local/lib/python3.12/dist-packages (from torch>=2.0.0->-r ../requirements.txt (line 6)) (12.6.80)\n",
      "Requirement already satisfied: nvidia-cudnn-cu12==9.10.2.21 in /usr/local/lib/python3.12/dist-packages (from torch>=2.0.0->-r ../requirements.txt (line 6)) (9.10.2.21)\n",
      "Requirement already satisfied: nvidia-cublas-cu12==12.6.4.1 in /usr/local/lib/python3.12/dist-packages (from torch>=2.0.0->-r ../requirements.txt (line 6)) (12.6.4.1)\n",
      "Requirement already satisfied: nvidia-cufft-cu12==11.3.0.4 in /usr/local/lib/python3.12/dist-packages (from torch>=2.0.0->-r ../requirements.txt (line 6)) (11.3.0.4)\n",
      "Requirement already satisfied: nvidia-curand-cu12==10.3.7.77 in /usr/local/lib/python3.12/dist-packages (from torch>=2.0.0->-r ../requirements.txt (line 6)) (10.3.7.77)\n",
      "Requirement already satisfied: nvidia-cusolver-cu12==11.7.1.2 in /usr/local/lib/python3.12/dist-packages (from torch>=2.0.0->-r ../requirements.txt (line 6)) (11.7.1.2)\n",
      "Requirement already satisfied: nvidia-cusparse-cu12==12.5.4.2 in /usr/local/lib/python3.12/dist-packages (from torch>=2.0.0->-r ../requirements.txt (line 6)) (12.5.4.2)\n",
      "Requirement already satisfied: nvidia-cusparselt-cu12==0.7.1 in /usr/local/lib/python3.12/dist-packages (from torch>=2.0.0->-r ../requirements.txt (line 6)) (0.7.1)\n",
      "Requirement already satisfied: nvidia-nccl-cu12==2.27.3 in /usr/local/lib/python3.12/dist-packages (from torch>=2.0.0->-r ../requirements.txt (line 6)) (2.27.3)\n",
      "Requirement already satisfied: nvidia-nvtx-cu12==12.6.77 in /usr/local/lib/python3.12/dist-packages (from torch>=2.0.0->-r ../requirements.txt (line 6)) (12.6.77)\n",
      "Requirement already satisfied: nvidia-nvjitlink-cu12==12.6.85 in /usr/local/lib/python3.12/dist-packages (from torch>=2.0.0->-r ../requirements.txt (line 6)) (12.6.85)\n",
      "Requirement already satisfied: nvidia-cufile-cu12==1.11.1.6 in /usr/local/lib/python3.12/dist-packages (from torch>=2.0.0->-r ../requirements.txt (line 6)) (1.11.1.6)\n",
      "Requirement already satisfied: triton==3.4.0 in /usr/local/lib/python3.12/dist-packages (from torch>=2.0.0->-r ../requirements.txt (line 6)) (3.4.0)\n",
      "Requirement already satisfied: array-api-compat>=1.7.1 in /usr/local/lib/python3.12/dist-packages (from anndata->-r ../requirements.txt (line 15)) (1.12.0)\n",
      "Requirement already satisfied: h5py>=3.8 in /usr/local/lib/python3.12/dist-packages (from anndata->-r ../requirements.txt (line 15)) (3.14.0)\n",
      "Requirement already satisfied: legacy-api-wrap in /usr/local/lib/python3.12/dist-packages (from anndata->-r ../requirements.txt (line 15)) (1.4.1)\n",
      "Requirement already satisfied: natsort in /usr/local/lib/python3.12/dist-packages (from anndata->-r ../requirements.txt (line 15)) (8.4.0)\n",
      "Requirement already satisfied: scipy>=1.12 in /usr/local/lib/python3.12/dist-packages (from anndata->-r ../requirements.txt (line 15)) (1.16.1)\n",
      "Requirement already satisfied: zarr!=3.0.*,>=2.18.7 in /usr/local/lib/python3.12/dist-packages (from anndata->-r ../requirements.txt (line 15)) (3.1.2)\n",
      "Requirement already satisfied: httpx>=0.22.0 in /usr/local/lib/python3.12/dist-packages (from biothings-client>=0.2.6->mygene==3.2.2->-r ../requirements.txt (line 12)) (0.28.1)\n",
      "Requirement already satisfied: six in /usr/local/lib/python3.12/dist-packages (from docrep>=0.3.1->omnipath==1.0.9->-r ../requirements.txt (line 13)) (1.17.0)\n",
      "Requirement already satisfied: hf-xet<2.0.0,>=1.1.3 in /usr/local/lib/python3.12/dist-packages (from huggingface-hub<1.0,>=0.19.3->transformers==4.40->-r ../requirements.txt (line 9)) (1.1.9)\n",
      "Requirement already satisfied: more_itertools>=8.5.0 in /usr/local/lib/python3.12/dist-packages (from inflect>=4.1.0->omnipath==1.0.9->-r ../requirements.txt (line 13)) (10.8.0)\n",
      "Requirement already satisfied: typeguard>=4.0.1 in /usr/local/lib/python3.12/dist-packages (from inflect>=4.1.0->omnipath==1.0.9->-r ../requirements.txt (line 13)) (4.4.4)\n",
      "Requirement already satisfied: charset_normalizer<4,>=2 in /usr/local/lib/python3.12/dist-packages (from requests->transformers==4.40->-r ../requirements.txt (line 9)) (3.4.3)\n",
      "Requirement already satisfied: idna<4,>=2.5 in /usr/local/lib/python3.12/dist-packages (from requests->transformers==4.40->-r ../requirements.txt (line 9)) (3.10)\n",
      "Requirement already satisfied: certifi>=2017.4.17 in /usr/local/lib/python3.12/dist-packages (from requests->transformers==4.40->-r ../requirements.txt (line 9)) (2025.8.3)\n",
      "Requirement already satisfied: mpmath<1.4,>=1.1.0 in /usr/local/lib/python3.12/dist-packages (from sympy>=1.13.3->torch>=2.0.0->-r ../requirements.txt (line 6)) (1.3.0)\n",
      "Requirement already satisfied: donfig>=0.8 in /usr/local/lib/python3.12/dist-packages (from zarr!=3.0.*,>=2.18.7->anndata->-r ../requirements.txt (line 15)) (0.8.1.post1)\n",
      "Requirement already satisfied: numcodecs>=0.14 in /usr/local/lib/python3.12/dist-packages (from numcodecs[crc32c]>=0.14->zarr!=3.0.*,>=2.18.7->anndata->-r ../requirements.txt (line 15)) (0.16.2)\n",
      "Requirement already satisfied: MarkupSafe>=2.0 in /usr/local/lib/python3.12/dist-packages (from jinja2->torch>=2.0.0->-r ../requirements.txt (line 6)) (3.0.2)\n",
      "Requirement already satisfied: anyio in /usr/local/lib/python3.12/dist-packages (from httpx>=0.22.0->biothings-client>=0.2.6->mygene==3.2.2->-r ../requirements.txt (line 12)) (4.10.0)\n",
      "Requirement already satisfied: httpcore==1.* in /usr/local/lib/python3.12/dist-packages (from httpx>=0.22.0->biothings-client>=0.2.6->mygene==3.2.2->-r ../requirements.txt (line 12)) (1.0.9)\n",
      "Requirement already satisfied: h11>=0.16 in /usr/local/lib/python3.12/dist-packages (from httpcore==1.*->httpx>=0.22.0->biothings-client>=0.2.6->mygene==3.2.2->-r ../requirements.txt (line 12)) (0.16.0)\n",
      "Requirement already satisfied: crc32c>=2.7 in /usr/local/lib/python3.12/dist-packages (from numcodecs[crc32c]>=0.14->zarr!=3.0.*,>=2.18.7->anndata->-r ../requirements.txt (line 15)) (2.7.1)\n",
      "Requirement already satisfied: sniffio>=1.1 in /usr/local/lib/python3.12/dist-packages (from anyio->httpx>=0.22.0->biothings-client>=0.2.6->mygene==3.2.2->-r ../requirements.txt (line 12)) (1.3.1)\n"
     ]
    }
   ],
   "source": [
    "from google.colab import drive\n",
    "import os\n",
    "\n",
    "drive.mount('/content/drive')\n",
    "os.chdir('/content/drive/MyDrive/GitHub/Biological-Foundation-Model/Notebooks')\n",
    "\n",
    "!pip install -r ../requirements.txt"
   ]
  },
  {
   "cell_type": "code",
   "execution_count": 2,
   "metadata": {
    "executionInfo": {
     "elapsed": 5232,
     "status": "ok",
     "timestamp": 1757900109623,
     "user": {
      "displayName": "Zhexuan Liu",
      "userId": "18073944608501350772"
     },
     "user_tz": 300
    },
    "id": "3LovxToId9pR"
   },
   "outputs": [],
   "source": [
    "import sys\n",
    "sys.path.append(\"structural_probe_utils\")\n",
    "import numpy as np\n",
    "import pandas as pd\n",
    "\n",
    "import torch\n",
    "import anndata as ad\n",
    "\n",
    "from structural_probe_utils.structural_probe_utils import build_G_from_edges, train_A"
   ]
  },
  {
   "cell_type": "code",
   "execution_count": null,
   "metadata": {
    "colab": {
     "base_uri": "https://localhost:8080/"
    },
    "executionInfo": {
     "elapsed": 6545,
     "status": "ok",
     "timestamp": 1757900116171,
     "user": {
      "displayName": "Zhexuan Liu",
      "userId": "18073944608501350772"
     },
     "user_tz": 300
    },
    "id": "3BH47qUBevYQ",
    "outputId": "73ebc466-1803-4caa-bad3-94a92ff5df2b"
   },
   "outputs": [
    {
     "name": "stdout",
     "output_type": "stream",
     "text": [
      "(19267, 768)\n",
      "19267\n"
     ]
    }
   ],
   "source": [
    "# prepare gene embedding\n",
    "# code borrowed from linear_perturbation_prediction-Paper\n",
    "demo_adata = ad.read_h5ad(\"../models/scFoundation/demo.h5ad\")\n",
    "singlecell_model_path=\"../models/scFoundation/models.ckpt\"\n",
    "ckp = torch.load(singlecell_model_path)\n",
    "gene_pos_emb = ckp['gene']['state_dict']['model.pos_emb.weight'].cpu().numpy()\n",
    "gene_names = demo_adata.var.gene_name.tolist()\n",
    "gene_names = gene_names + [\"log10TotalCount1\", \"log10TotalCount2\", \"<pad>\"]\n",
    "print(gene_pos_emb.shape)\n",
    "print(len(gene_names))\n",
    "\n",
    "# # Msigdf hallmark keeps ~4,000 genes, still too many\n",
    "# msig = Msigdb()\n",
    "# gmt = msig.get_gmt(category=\"h.all\", dbver=\"2023.1.Hs\")\n",
    "# hallmark_genes = set(g for genes in gmt.values() for g in genes)\n",
    "# indices = [i for i, g in enumerate(gene_names) if g in hallmark_genes]\n",
    "\n",
    "# L1000 landmark genes\n",
    "landmark_df = pd.read_csv(\"../data/structural_probe_geneformer/L1000_landmark_genes.txt\", sep=\"\\t\")\n",
    "\n",
    "# Extract gene symbols (strip spaces just in case)\n",
    "landmark_genes = set(landmark_df[\"Symbol\"].str.strip())\n",
    "indices = [i for i, g in enumerate(gene_names) if g in landmark_genes]\n",
    "\n",
    "gene_pos_emb = gene_pos_emb[indices, :]\n",
    "gene_names = [gene_names[i] for i in indices]\n",
    "print(gene_pos_emb.shape)\n",
    "print(len(gene_names))"
   ]
  },
  {
   "cell_type": "code",
   "execution_count": 4,
   "metadata": {
    "executionInfo": {
     "elapsed": 31307,
     "status": "ok",
     "timestamp": 1757900147477,
     "user": {
      "displayName": "Zhexuan Liu",
      "userId": "18073944608501350772"
     },
     "user_tz": 300
    },
    "id": "t09QAWeNka3R"
   },
   "outputs": [],
   "source": [
    "# prepare true gene network\n",
    "STRING_homosapien = pd.read_csv(\"/content/drive/MyDrive/Colab Notebooks/Structural_Probe_Gene/data/9606.protein.links.v12.0.txt\", sep=\" \")\n",
    "STRING_homosapien[\"protein1\"] = STRING_homosapien[\"protein1\"].str.replace(\"9606.\", \"\", regex=False)\n",
    "STRING_homosapien[\"protein2\"] = STRING_homosapien[\"protein2\"].str.replace(\"9606.\", \"\", regex=False)\n",
    "\n",
    "STRING_homosapien_alias = pd.read_csv(\"/content/drive/MyDrive/Colab Notebooks/Structural_Probe_Gene/data/9606.protein.aliases.v12.0.txt\", sep=\"\\t\", header=None)\n",
    "STRING_homosapien_alias = STRING_homosapien_alias[STRING_homosapien_alias[2].str.startswith(\"Ensembl_HGNC_symbol\", na=False)][[0,1]].drop_duplicates()\n",
    "STRING_homosapien_alias[0] = STRING_homosapien_alias[0].str.replace(\"9606.\", \"\", regex=False)\n",
    "ENSP_to_GeneSymbol = dict(zip(STRING_homosapien_alias[0], STRING_homosapien_alias[1]))\n",
    "\n",
    "# Map both columns using the dictionary\n",
    "STRING_homosapien[\"gene1\"] = STRING_homosapien[\"protein1\"].map(ENSP_to_GeneSymbol)\n",
    "STRING_homosapien[\"gene2\"] = STRING_homosapien[\"protein2\"].map(ENSP_to_GeneSymbol)\n",
    "STRING_gene_interaction = STRING_homosapien.dropna(subset=[\"gene1\", \"gene2\", \"combined_score\"])\n",
    "STRING_gene_interaction_high_conf = STRING_gene_interaction[STRING_gene_interaction[\"combined_score\"]>700]"
   ]
  },
  {
   "cell_type": "code",
   "execution_count": 5,
   "metadata": {
    "executionInfo": {
     "elapsed": 614,
     "status": "ok",
     "timestamp": 1757900148086,
     "user": {
      "displayName": "Zhexuan Liu",
      "userId": "18073944608501350772"
     },
     "user_tz": 300
    },
    "id": "bt6uLlGmAM9Y"
   },
   "outputs": [],
   "source": [
    "G_full = build_G_from_edges(STRING_gene_interaction_high_conf, gene_names, make_dense = True)"
   ]
  },
  {
   "cell_type": "code",
   "execution_count": 9,
   "metadata": {
    "executionInfo": {
     "elapsed": 558184,
     "status": "ok",
     "timestamp": 1757900842105,
     "user": {
      "displayName": "Zhexuan Liu",
      "userId": "18073944608501350772"
     },
     "user_tz": 300
    },
    "id": "oPB3iGGb7Hx4"
   },
   "outputs": [],
   "source": [
    "from sklearn.model_selection import KFold\n",
    "from sklearn.metrics import accuracy_score, f1_score\n",
    "\n",
    "n_splits = 10\n",
    "n = len(gene_names)\n",
    "random_state = 42\n",
    "device = \"cpu\"\n",
    "\n",
    "\n",
    "G_full = build_G_from_edges(STRING_gene_interaction_high_conf, gene_names, make_dense = True)\n",
    "\n",
    "genes = np.array(gene_names)\n",
    "X_full = np.asarray(gene_pos_emb)  # (n,d)\n",
    "n = len(genes)\n",
    "\n",
    "kf = KFold(n_splits=n_splits, shuffle=True, random_state=random_state)\n",
    "\n",
    "acc_tr_0 = []\n",
    "acc_tr_1 = []\n",
    "acc_va_0 = []\n",
    "acc_va_1 = []\n",
    "f1_tr = []\n",
    "f1_va = []\n",
    "for fold_id, (train_idx, val_idx) in enumerate(kf.split(np.arange(n)), start=1):\n",
    "    # Induced subgraphs and embeddings\n",
    "    X_tr = X_full[train_idx]\n",
    "    X_va = X_full[val_idx]\n",
    "    G_tr = G_full[np.ix_(train_idx, train_idx)]\n",
    "    G_va = G_full[np.ix_(val_idx,  val_idx)]\n",
    "\n",
    "    # Train\n",
    "    A, w, tr_loss, va_loss = train_A(\n",
    "        X_tr, G_tr, X_va, G_va, steps = 200\n",
    "    )\n",
    "\n",
    "    # X_tr = torch.as_tensor(X_tr, dtype=torch.float32, device=device)\n",
    "    # np.fill_diagonal(G_tr, 0)\n",
    "    # G_tr = torch.from_numpy((G_tr > 0).astype(np.bool_)).to(device)\n",
    "    # nt = X_tr.shape[0]\n",
    "    # I, J = torch.triu_indices(nt, nt, offset=1, device=device)\n",
    "    # y = G_tr[I, J].float()\n",
    "\n",
    "    X_va = torch.as_tensor(X_va, dtype=torch.float32, device=device)\n",
    "    np.fill_diagonal(G_va, 0)\n",
    "    G_va = torch.from_numpy((G_va > 0).astype(np.bool_)).to(device)\n",
    "    nv = X_va.shape[0]\n",
    "    Iv, Jv = torch.triu_indices(nv, nv, offset=1, device=device)\n",
    "    yv = G_va[Iv, Jv].float()\n",
    "\n",
    "    with torch.no_grad():\n",
    "      # delta = X_tr[I] - X_tr[J]\n",
    "      # z = delta @ A\n",
    "      # sqdist = (z * z).sum(dim=1)\n",
    "      # logits = w - sqdist\n",
    "      # prob = torch.sigmoid(logits).cpu().numpy()\n",
    "      # pred = (prob > 0.5).astype(int)\n",
    "\n",
    "      vdelta = X_va[Iv] - X_va[Jv]\n",
    "      vz = vdelta @ A\n",
    "      vsqdist = (vz * vz).sum(dim=1)\n",
    "      vlogits = w - vsqdist\n",
    "      vprob = torch.sigmoid(vlogits).cpu().numpy()\n",
    "      vpred = (vprob > 0.5).astype(int)\n",
    "\n",
    "      # acc_tr_0.append(accuracy_score(y[y == 0], pred[y == 0]))\n",
    "      # acc_tr_1.append(accuracy_score(y[y == 1], pred[y == 1]))\n",
    "      acc_va_0.append(accuracy_score(yv[yv == 0], vpred[yv == 0]))\n",
    "      acc_va_1.append(accuracy_score(yv[yv == 1], vpred[yv == 1]))\n",
    "      # f1_tr.append(f1_score(y, pred))\n",
    "      f1_va.append(f1_score(yv, vpred))\n"
   ]
  },
  {
   "cell_type": "code",
   "execution_count": null,
   "metadata": {
    "colab": {
     "base_uri": "https://localhost:8080/"
    },
    "executionInfo": {
     "elapsed": 78,
     "status": "ok",
     "timestamp": 1757900842215,
     "user": {
      "displayName": "Zhexuan Liu",
      "userId": "18073944608501350772"
     },
     "user_tz": 300
    },
    "id": "OeHcsStCBSYW",
    "outputId": "e3961221-414e-45c5-c859-507a4268e2a1"
   },
   "outputs": [
    {
     "name": "stdout",
     "output_type": "stream",
     "text": [
      "[0.8846944831083633, 0.8850037722082691, 0.8942139967120261, 0.8706229244618775, 0.8799980146323751, 0.873070387910777, 0.8867804002453719, 0.8737032510071797, 0.8809259318263684, 0.8627073398915793]\n",
      "[0.11456859971711457, 0.10130841121495326, 0.10526315789473684, 0.14210061782877317, 0.12710280373831775, 0.14747307373653687, 0.11243144424131626, 0.13157894736842105, 0.11542192046556742, 0.13417105796513984]\n",
      "[0.002249042074671899, 0.002508829506056833, 0.002417088817942856, 0.0026569848997442034, 0.0024194660274057898, 0.0029915086531068415, 0.0023176062707265604, 0.0025797611394931825, 0.002136531547504163, 0.0025761862325805835]\n"
     ]
    }
   ],
   "source": [
    "print(acc_va_0)\n",
    "print(acc_va_1)\n",
    "print(f1_va)"
   ]
  },
  {
   "cell_type": "markdown",
   "metadata": {},
   "source": [
    "The training sample is too few. Compare to training with cells, we have 10,000 cells and for each cell, we have hundreds of gene embeddings."
   ]
  }
 ],
 "metadata": {
  "colab": {
   "authorship_tag": "ABX9TyOKWya+XpAgnFTJVJL54pPE",
   "machine_shape": "hm",
   "provenance": []
  },
  "kernelspec": {
   "display_name": "Python 3",
   "name": "python3"
  },
  "language_info": {
   "name": "python"
  }
 },
 "nbformat": 4,
 "nbformat_minor": 0
}
