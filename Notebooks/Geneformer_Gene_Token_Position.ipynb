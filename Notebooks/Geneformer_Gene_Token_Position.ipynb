{
  "cells": [
    {
      "cell_type": "markdown",
      "id": "51ddafd1",
      "metadata": {
        "id": "51ddafd1"
      },
      "source": [
        "The following lists are the gene tokens and their positions in the geneformer model."
      ]
    },
    {
      "cell_type": "code",
      "execution_count": 1,
      "id": "5bce844c",
      "metadata": {
        "id": "5bce844c",
        "outputId": "63dd7d70-accc-4f94-e9ec-a5355c635537",
        "colab": {
          "base_uri": "https://localhost:8080/",
          "height": 173
        }
      },
      "outputs": [
        {
          "output_type": "error",
          "ename": "FileNotFoundError",
          "evalue": "[Errno 2] No such file or directory: '../data/structural_probe_geneformer/set_unions_tokens.json'",
          "traceback": [
            "\u001b[0;31m---------------------------------------------------------------------------\u001b[0m",
            "\u001b[0;31mFileNotFoundError\u001b[0m                         Traceback (most recent call last)",
            "\u001b[0;32m/tmp/ipython-input-4189778745.py\u001b[0m in \u001b[0;36m<cell line: 0>\u001b[0;34m()\u001b[0m\n\u001b[1;32m      1\u001b[0m \u001b[0;32mimport\u001b[0m \u001b[0mjson\u001b[0m\u001b[0;34m\u001b[0m\u001b[0;34m\u001b[0m\u001b[0m\n\u001b[0;32m----> 2\u001b[0;31m \u001b[0;32mwith\u001b[0m \u001b[0mopen\u001b[0m\u001b[0;34m(\u001b[0m\u001b[0;34m'../data/structural_probe_geneformer/set_unions_tokens.json'\u001b[0m\u001b[0;34m,\u001b[0m \u001b[0;34m'r'\u001b[0m\u001b[0;34m)\u001b[0m \u001b[0;32mas\u001b[0m \u001b[0mfile\u001b[0m\u001b[0;34m:\u001b[0m\u001b[0;34m\u001b[0m\u001b[0;34m\u001b[0m\u001b[0m\n\u001b[0m\u001b[1;32m      3\u001b[0m     \u001b[0mgene_list\u001b[0m \u001b[0;34m=\u001b[0m \u001b[0mjson\u001b[0m\u001b[0;34m.\u001b[0m\u001b[0mload\u001b[0m\u001b[0;34m(\u001b[0m\u001b[0mfile\u001b[0m\u001b[0;34m)\u001b[0m\u001b[0;34m\u001b[0m\u001b[0;34m\u001b[0m\u001b[0m\n",
            "\u001b[0;31mFileNotFoundError\u001b[0m: [Errno 2] No such file or directory: '../data/structural_probe_geneformer/set_unions_tokens.json'"
          ]
        }
      ],
      "source": [
        "import json\n",
        "with open('../data/structural_probe_geneformer/set_unions_tokens.json', 'r') as file:\n",
        "    gene_list = json.load(file)"
      ]
    },
    {
      "cell_type": "markdown",
      "id": "4b7d6611",
      "metadata": {
        "id": "4b7d6611"
      },
      "source": [
        "There are 6 lists within `gene_list`, storing all the gene names (Ensembl ID) appearing in the last 50, last 100-51, last 150-101, last 200-151, last 250-201, last 300-251 positions in the token sequence respectively across 10,000 randomly sampled cells. The length for each list is shown below.\n",
        "\n",
        "We can see that the later the token position, the higher the repetition. One possible explanation to this is that the ranking scheme of Geneformer tends to prioritize the differently expressed genes but deprioritize house-keeping genes (which are on the contrary important in gene networks)."
      ]
    },
    {
      "cell_type": "code",
      "execution_count": null,
      "id": "7c4c667b",
      "metadata": {
        "id": "7c4c667b",
        "outputId": "a5a1aad0-eeeb-4f5c-aea6-2d91037cb0ca"
      },
      "outputs": [
        {
          "data": {
            "text/plain": [
              "[1539, 5791, 10197, 12376, 12971, 13029]"
            ]
          },
          "execution_count": 9,
          "metadata": {},
          "output_type": "execute_result"
        }
      ],
      "source": [
        "[len(l) for l in gene_list]"
      ]
    }
  ],
  "metadata": {
    "kernelspec": {
      "display_name": "Biological Foundation Model (Python 3.12.11)",
      "language": "python",
      "name": "biological-foundation-model"
    },
    "language_info": {
      "codemirror_mode": {
        "name": "ipython",
        "version": 3
      },
      "file_extension": ".py",
      "mimetype": "text/x-python",
      "name": "python",
      "nbconvert_exporter": "python",
      "pygments_lexer": "ipython3",
      "version": "3.12.11"
    },
    "colab": {
      "provenance": []
    }
  },
  "nbformat": 4,
  "nbformat_minor": 5
}