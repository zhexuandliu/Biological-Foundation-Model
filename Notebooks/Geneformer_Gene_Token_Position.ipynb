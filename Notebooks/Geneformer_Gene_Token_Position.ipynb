{
 "cells": [
  {
   "cell_type": "markdown",
   "id": "51ddafd1",
   "metadata": {},
   "source": [
    "The following lists are the gene tokens and their positions in the geneformer model."
   ]
  },
  {
   "cell_type": "code",
   "execution_count": 7,
   "id": "5bce844c",
   "metadata": {},
   "outputs": [],
   "source": [
    "import json\n",
    "with open('../data/structural_probe_geneformer/set_unions_tokens.json', 'r') as file:\n",
    "    gene_list = json.load(file)"
   ]
  },
  {
   "cell_type": "markdown",
   "id": "4b7d6611",
   "metadata": {},
   "source": [
    "There are 6 lists within `gene_list`, storing all the gene names (Ensembl ID) appearing in the last 50, last 100-51, last 150-101, last 200-151, last 250-201, last 300-251 positions in the token sequence respectively across 10,000 randomly sampled cells. The length for each list is shown below. \n",
    "\n",
    "We can see that the later the token position, the higher the repetition. One possible explanation to this is that the ranking scheme of Geneformer tends to prioritize the differently expressed genes but deprioritize house-keeping genes (which are on the contrary important in gene networks)."
   ]
  },
  {
   "cell_type": "code",
   "execution_count": 9,
   "id": "7c4c667b",
   "metadata": {},
   "outputs": [
    {
     "data": {
      "text/plain": [
       "[1539, 5791, 10197, 12376, 12971, 13029]"
      ]
     },
     "execution_count": 9,
     "metadata": {},
     "output_type": "execute_result"
    }
   ],
   "source": [
    "[len(l) for l in gene_list]"
   ]
  }
 ],
 "metadata": {
  "kernelspec": {
   "display_name": "Biological Foundation Model (Python 3.12.11)",
   "language": "python",
   "name": "biological-foundation-model"
  },
  "language_info": {
   "codemirror_mode": {
    "name": "ipython",
    "version": 3
   },
   "file_extension": ".py",
   "mimetype": "text/x-python",
   "name": "python",
   "nbconvert_exporter": "python",
   "pygments_lexer": "ipython3",
   "version": "3.12.11"
  }
 },
 "nbformat": 4,
 "nbformat_minor": 5
}
