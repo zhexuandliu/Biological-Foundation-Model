{
 "cells": [
  {
   "cell_type": "code",
   "execution_count": 5,
   "metadata": {
    "colab": {
     "base_uri": "https://localhost:8080/"
    },
    "executionInfo": {
     "elapsed": 5595,
     "status": "ok",
     "timestamp": 1757900104387,
     "user": {
      "displayName": "Zhexuan Liu",
      "userId": "18073944608501350772"
     },
     "user_tz": 300
    },
    "id": "8txNSnqmboaA",
    "outputId": "b81ec664-6f2e-4c3c-d21a-c15934f78bec"
   },
   "outputs": [
    {
     "name": "stdout",
     "output_type": "stream",
     "text": [
      "Requirement already satisfied: numpy>=1.21.0 in /Users/zhexuanliu/anaconda3/lib/python3.11/site-packages (from -r ../requirements.txt (line 2)) (1.24.3)\n",
      "Requirement already satisfied: pandas>=1.3.0 in /Users/zhexuanliu/anaconda3/lib/python3.11/site-packages (from -r ../requirements.txt (line 3)) (2.1.4)\n",
      "Requirement already satisfied: torch>=2.0.0 in /Users/zhexuanliu/anaconda3/lib/python3.11/site-packages (from -r ../requirements.txt (line 6)) (2.1.0.post100)\n",
      "Collecting transformers==4.40 (from -r ../requirements.txt (line 9))\n",
      "  Using cached transformers-4.40.0-py3-none-any.whl.metadata (137 kB)\n",
      "Collecting peft==0.10.0 (from -r ../requirements.txt (line 11))\n",
      "  Using cached peft-0.10.0-py3-none-any.whl.metadata (13 kB)\n",
      "Collecting mygene==3.2.2 (from -r ../requirements.txt (line 12))\n",
      "  Using cached mygene-3.2.2-py2.py3-none-any.whl.metadata (10 kB)\n",
      "Collecting omnipath==1.0.9 (from -r ../requirements.txt (line 13))\n",
      "  Using cached omnipath-1.0.9-py3-none-any.whl.metadata (7.0 kB)\n",
      "Collecting anndata (from -r ../requirements.txt (line 15))\n",
      "  Using cached anndata-0.12.2-py3-none-any.whl.metadata (9.6 kB)\n",
      "Requirement already satisfied: filelock in /Users/zhexuanliu/anaconda3/lib/python3.11/site-packages (from transformers==4.40->-r ../requirements.txt (line 9)) (3.9.0)\n",
      "Collecting huggingface-hub<1.0,>=0.19.3 (from transformers==4.40->-r ../requirements.txt (line 9))\n",
      "  Using cached huggingface_hub-0.34.5-py3-none-any.whl.metadata (14 kB)\n",
      "Requirement already satisfied: packaging>=20.0 in /Users/zhexuanliu/anaconda3/lib/python3.11/site-packages (from transformers==4.40->-r ../requirements.txt (line 9)) (23.1)\n",
      "Requirement already satisfied: pyyaml>=5.1 in /Users/zhexuanliu/anaconda3/lib/python3.11/site-packages (from transformers==4.40->-r ../requirements.txt (line 9)) (6.0)\n",
      "Requirement already satisfied: regex!=2019.12.17 in /Users/zhexuanliu/anaconda3/lib/python3.11/site-packages (from transformers==4.40->-r ../requirements.txt (line 9)) (2022.7.9)\n",
      "Requirement already satisfied: requests in /Users/zhexuanliu/anaconda3/lib/python3.11/site-packages (from transformers==4.40->-r ../requirements.txt (line 9)) (2.31.0)\n",
      "Collecting tokenizers<0.20,>=0.19 (from transformers==4.40->-r ../requirements.txt (line 9))\n",
      "  Using cached tokenizers-0.19.1-cp311-cp311-macosx_11_0_arm64.whl.metadata (6.7 kB)\n",
      "Collecting safetensors>=0.4.1 (from transformers==4.40->-r ../requirements.txt (line 9))\n",
      "  Using cached safetensors-0.6.2-cp38-abi3-macosx_11_0_arm64.whl.metadata (4.1 kB)\n",
      "Requirement already satisfied: tqdm>=4.27 in /Users/zhexuanliu/anaconda3/lib/python3.11/site-packages (from transformers==4.40->-r ../requirements.txt (line 9)) (4.65.0)\n",
      "Requirement already satisfied: psutil in /Users/zhexuanliu/anaconda3/lib/python3.11/site-packages (from peft==0.10.0->-r ../requirements.txt (line 11)) (5.9.0)\n",
      "Requirement already satisfied: accelerate>=0.21.0 in /Users/zhexuanliu/anaconda3/lib/python3.11/site-packages (from peft==0.10.0->-r ../requirements.txt (line 11)) (0.27.2)\n",
      "Collecting biothings-client>=0.2.6 (from mygene==3.2.2->-r ../requirements.txt (line 12))\n",
      "  Using cached biothings_client-0.4.1-py3-none-any.whl.metadata (10 kB)\n",
      "Requirement already satisfied: attrs>=20.2.0 in /Users/zhexuanliu/anaconda3/lib/python3.11/site-packages (from omnipath==1.0.9->-r ../requirements.txt (line 13)) (22.1.0)\n",
      "Collecting docrep>=0.3.1 (from omnipath==1.0.9->-r ../requirements.txt (line 13))\n",
      "  Using cached docrep-0.3.2.tar.gz (33 kB)\n",
      "  Preparing metadata (setup.py) ... \u001b[?25lerror\n",
      "  \u001b[1;31merror\u001b[0m: \u001b[1msubprocess-exited-with-error\u001b[0m\n",
      "  \n",
      "  \u001b[31m×\u001b[0m \u001b[32mpython setup.py egg_info\u001b[0m did not run successfully.\n",
      "  \u001b[31m│\u001b[0m exit code: \u001b[1;36m1\u001b[0m\n",
      "  \u001b[31m╰─>\u001b[0m \u001b[31m[1 lines of output]\u001b[0m\n",
      "  \u001b[31m   \u001b[0m ERROR: Can not execute `setup.py` since setuptools is not available in the build environment.\n",
      "  \u001b[31m   \u001b[0m \u001b[31m[end of output]\u001b[0m\n",
      "  \n",
      "  \u001b[1;35mnote\u001b[0m: This error originates from a subprocess, and is likely not a problem with pip.\n",
      "\u001b[?25h\n",
      "\u001b[1m[\u001b[0m\u001b[34;49mnotice\u001b[0m\u001b[1;39;49m]\u001b[0m\u001b[39;49m A new release of pip is available: \u001b[0m\u001b[31;49m24.3.1\u001b[0m\u001b[39;49m -> \u001b[0m\u001b[32;49m25.2\u001b[0m\n",
      "\u001b[1m[\u001b[0m\u001b[34;49mnotice\u001b[0m\u001b[1;39;49m]\u001b[0m\u001b[39;49m To update, run: \u001b[0m\u001b[32;49mpip install --upgrade pip\u001b[0m\n",
      "\u001b[1;31merror\u001b[0m: \u001b[1mmetadata-generation-failed\u001b[0m\n",
      "\n",
      "\u001b[31m×\u001b[0m Encountered error while generating package metadata.\n",
      "\u001b[31m╰─>\u001b[0m See above for output.\n",
      "\n",
      "\u001b[1;35mnote\u001b[0m: This is an issue with the package mentioned above, not pip.\n",
      "\u001b[1;36mhint\u001b[0m: See above for details.\n"
     ]
    }
   ],
   "source": [
    "# from google.colab import drive\n",
    "import os\n",
    "\n",
    "# drive.mount('/content/drive')\n",
    "# os.chdir('/content/drive/MyDrive/GitHub/Biological-Foundation-Model/Notebooks')\n",
    "\n",
    "!pip install -r ../requirements.txt"
   ]
  },
  {
   "cell_type": "code",
   "execution_count": 6,
   "metadata": {
    "executionInfo": {
     "elapsed": 5232,
     "status": "ok",
     "timestamp": 1757900109623,
     "user": {
      "displayName": "Zhexuan Liu",
      "userId": "18073944608501350772"
     },
     "user_tz": 300
    },
    "id": "3LovxToId9pR"
   },
   "outputs": [],
   "source": [
    "import sys\n",
    "sys.path.append(\"structural_probe_utils\")\n",
    "import numpy as np\n",
    "import pandas as pd\n",
    "\n",
    "import torch\n",
    "import anndata as ad\n",
    "\n",
    "from structural_probe_utils.structural_probe_utils import build_G_from_edges, train_A"
   ]
  },
  {
   "cell_type": "code",
   "execution_count": 8,
   "metadata": {
    "colab": {
     "base_uri": "https://localhost:8080/"
    },
    "executionInfo": {
     "elapsed": 6545,
     "status": "ok",
     "timestamp": 1757900116171,
     "user": {
      "displayName": "Zhexuan Liu",
      "userId": "18073944608501350772"
     },
     "user_tz": 300
    },
    "id": "3BH47qUBevYQ",
    "outputId": "73ebc466-1803-4caa-bad3-94a92ff5df2b"
   },
   "outputs": [],
   "source": [
    "# prepare gene embedding\n",
    "# code borrowed from linear_perturbation_prediction-Paper\n",
    "norman_adata = ad.read_h5ad(\"../data/Norman/gse133344_k562gi_oe_pert227_84986_19264_withtotalcount.h5ad\")"
   ]
  },
  {
   "cell_type": "code",
   "execution_count": null,
   "metadata": {},
   "outputs": [
    {
     "data": {
      "text/plain": [
       "condition_name\n",
       "K562_ctrl_1              7275\n",
       "K562_KLF1+ctrl_1+1       1629\n",
       "K562_BAK1+ctrl_1+1       1154\n",
       "K562_ETS2+ctrl_1+1       1010\n",
       "K562_CEBPE+ctrl_1+1      1009\n",
       "                         ... \n",
       "K562_SAMD1+TGFBR2_1+1      57\n",
       "K562_CEBPB+CEBPA_1+1       50\n",
       "K562_JUN+CEBPA_1+1         49\n",
       "K562_CBL+UBASH3A_1+1       48\n",
       "K562_JUN+CEBPB_1+1         46\n",
       "Name: count, Length: 227, dtype: int64"
      ]
     },
     "execution_count": 20,
     "metadata": {},
     "output_type": "execute_result"
    }
   ],
   "source": [
    "# There are 227 conditions in the dataset, aligning with statistics in the paper.\n",
    "norman_adata.obs[\"condition_name\"].value_counts()"
   ]
  }
 ],
 "metadata": {
  "colab": {
   "authorship_tag": "ABX9TyOKWya+XpAgnFTJVJL54pPE",
   "machine_shape": "hm",
   "provenance": []
  },
  "kernelspec": {
   "display_name": "Biological Foundation Model (Python 3.12.11)",
   "language": "python",
   "name": "biological-foundation-model"
  },
  "language_info": {
   "codemirror_mode": {
    "name": "ipython",
    "version": 3
   },
   "file_extension": ".py",
   "mimetype": "text/x-python",
   "name": "python",
   "nbconvert_exporter": "python",
   "pygments_lexer": "ipython3",
   "version": "3.12.11"
  }
 },
 "nbformat": 4,
 "nbformat_minor": 0
}
